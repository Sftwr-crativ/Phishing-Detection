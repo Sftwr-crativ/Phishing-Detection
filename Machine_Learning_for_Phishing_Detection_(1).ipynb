{
  "cells": [
    {
      "cell_type": "markdown",
      "metadata": {
        "id": "view-in-github",
        "colab_type": "text"
      },
      "source": [
        "<a href=\"https://colab.research.google.com/github/Sftwr-crativ/Phishing-Detection/blob/main/Machine_Learning_for_Phishing_Detection_(1).ipynb\" target=\"_parent\"><img src=\"https://colab.research.google.com/assets/colab-badge.svg\" alt=\"Open In Colab\"/></a>"
      ]
    },
    {
      "cell_type": "markdown",
      "metadata": {
        "id": "MSNe8R2Npw1V"
      },
      "source": [
        "# Machine Learning for Phishing Detection"
      ]
    },
    {
      "cell_type": "code",
      "source": [
        ""
      ],
      "metadata": {
        "id": "NQRMJ43Hccdh"
      },
      "execution_count": null,
      "outputs": []
    },
    {
      "cell_type": "code",
      "source": [
        ""
      ],
      "metadata": {
        "id": "uywgi6tccciL"
      },
      "execution_count": null,
      "outputs": []
    },
    {
      "cell_type": "markdown",
      "metadata": {
        "id": "mHcecK5io-48"
      },
      "source": [
        "ML Algorithm Development Process:\n",
        "\n",
        "1. Setup\n",
        "2. Data exploration\n",
        "3. Identifying new features\n",
        "4. Building the model\n",
        "5. Measuring performance\n",
        "6. Iterating \n"
      ]
    },
    {
      "cell_type": "markdown",
      "metadata": {
        "id": "39B79TjWphIL"
      },
      "source": [
        "## 1. Setup"
      ]
    },
    {
      "cell_type": "markdown",
      "metadata": {
        "id": "cPHpnXiRqeDV"
      },
      "source": [
        "Mount your google drive so you can access your data."
      ]
    },
    {
      "cell_type": "code",
      "execution_count": null,
      "metadata": {
        "colab": {
          "base_uri": "https://localhost:8080/"
        },
        "id": "4pqeDh59rAou",
        "outputId": "cff81e20-1a45-421a-de71-66d5dc702da3"
      },
      "outputs": [
        {
          "output_type": "stream",
          "name": "stdout",
          "text": [
            "sample_data\n"
          ]
        }
      ],
      "source": [
        "!ls"
      ]
    },
    {
      "cell_type": "code",
      "execution_count": null,
      "metadata": {
        "colab": {
          "base_uri": "https://localhost:8080/"
        },
        "id": "OqSW1B44qXar",
        "outputId": "b4e68b52-8e67-464f-e91f-57844f6957db"
      },
      "outputs": [
        {
          "output_type": "stream",
          "name": "stdout",
          "text": [
            "Mounted at /content/drive\n"
          ]
        }
      ],
      "source": [
        "from google.colab import drive\n",
        "drive.mount('/content/drive')"
      ]
    },
    {
      "cell_type": "markdown",
      "metadata": {
        "id": "2knpceYyriVw"
      },
      "source": [
        "We import the python modules containing the tools you would like to use for the project. For this data science project, we will rely heavily on the modules `pandas`, `numpy`, and `sklearn`. "
      ]
    },
    {
      "cell_type": "code",
      "execution_count": null,
      "metadata": {
        "id": "1Xr4iTEEqW3-"
      },
      "outputs": [],
      "source": [
        "import pandas as pd\n",
        "import numpy as np\n",
        "from sklearn.model_selection import train_test_split\n",
        "from sklearn.ensemble import RandomForestClassifier\n",
        "from sklearn import metrics"
      ]
    },
    {
      "cell_type": "markdown",
      "metadata": {
        "id": "KYaB94lNr7vv"
      },
      "source": [
        "You may find in your exploration of the data that there are additional functions from other modules that you would like to use, and I encourage you to do so!\n",
        "\n",
        "To install another module simply use the following line in the terminal of your computer:\n",
        "\n",
        "`pip install <insert module name here>`\n",
        "\n",
        "Once the module has been installed on your computer, you can import it in the same way as `pandas`, `numpy`, and `sklearn` were in the cell above\n",
        "\n",
        "`import <insert module name here>`"
      ]
    },
    {
      "cell_type": "code",
      "execution_count": null,
      "metadata": {
        "id": "dKWMHRy9rxdL"
      },
      "outputs": [],
      "source": [
        ""
      ]
    },
    {
      "cell_type": "markdown",
      "metadata": {
        "id": "vh9BC0rcsoLn"
      },
      "source": [
        "The second step is to load the data you plan on analyzing. The data for this project is named `phishing_url_dataset.csv` and has been uploaded into the `data` folder of the github repository for this course."
      ]
    },
    {
      "cell_type": "code",
      "execution_count": null,
      "metadata": {
        "colab": {
          "base_uri": "https://localhost:8080/"
        },
        "id": "pxVXtDlLs3uL",
        "outputId": "25ecfda9-65fa-4214-9269-8f46bafda5b9"
      },
      "outputs": [
        {
          "output_type": "stream",
          "name": "stdout",
          "text": [
            "Machine_Learning_for_Phishing_Detection.ipynb  phishing_url_dataset.csv\n"
          ]
        }
      ],
      "source": [
        "!ls \"drive/MyDrive/Explo phishing\""
      ]
    },
    {
      "cell_type": "code",
      "execution_count": null,
      "metadata": {
        "id": "_LFgP1oPrxO5"
      },
      "outputs": [],
      "source": [
        "data = pd.read_csv(\"drive/MyDrive/Explo phishing/phishing_url_dataset.csv\")"
      ]
    },
    {
      "cell_type": "code",
      "execution_count": null,
      "metadata": {
        "colab": {
          "base_uri": "https://localhost:8080/",
          "height": 424
        },
        "id": "IO5_w8mSrxID",
        "outputId": "969e94ec-3ba8-482d-f47f-502d55ea6848"
      },
      "outputs": [
        {
          "output_type": "execute_result",
          "data": {
            "text/plain": [
              "                                                  url  url_character_count  \\\n",
              "0   nobell[.]it/70ffb52d079109dca5664cce6f31737378...                  225   \n",
              "1   www[.]dghjdgf[.]com/paypal[.]co[.]uk/cycgi-bin...                   81   \n",
              "2   serviciosbys[.]com/paypal[.]cgi[.]bin[.]get-in...                  177   \n",
              "3   mail[.]printakid[.]com/www[.]online[.]american...                   60   \n",
              "4   thewhiskeydregs[.]com/wp-content/themes/widesc...                  116   \n",
              "..                                                ...                  ...   \n",
              "95            rsaxena[.]5gbfree[.]com/facebook[.]html                   33   \n",
              "96              steamcommunity-giveaway[.]my3gb[.]com                   33   \n",
              "97                              steamglfts[.]h16[.]ru                   17   \n",
              "98                            steamglfts[.]hut2[.]ru/                   19   \n",
              "99               vinzajah[.]5gbfree[.]com/login[.]php                   30   \n",
              "\n",
              "    phishing_attempt  \n",
              "0               True  \n",
              "1               True  \n",
              "2               True  \n",
              "3               True  \n",
              "4               True  \n",
              "..               ...  \n",
              "95              True  \n",
              "96              True  \n",
              "97              True  \n",
              "98              True  \n",
              "99              True  \n",
              "\n",
              "[100 rows x 3 columns]"
            ],
            "text/html": [
              "\n",
              "  <div id=\"df-1088014c-ad01-48e4-9f50-7bff9e4f8221\">\n",
              "    <div class=\"colab-df-container\">\n",
              "      <div>\n",
              "<style scoped>\n",
              "    .dataframe tbody tr th:only-of-type {\n",
              "        vertical-align: middle;\n",
              "    }\n",
              "\n",
              "    .dataframe tbody tr th {\n",
              "        vertical-align: top;\n",
              "    }\n",
              "\n",
              "    .dataframe thead th {\n",
              "        text-align: right;\n",
              "    }\n",
              "</style>\n",
              "<table border=\"1\" class=\"dataframe\">\n",
              "  <thead>\n",
              "    <tr style=\"text-align: right;\">\n",
              "      <th></th>\n",
              "      <th>url</th>\n",
              "      <th>url_character_count</th>\n",
              "      <th>phishing_attempt</th>\n",
              "    </tr>\n",
              "  </thead>\n",
              "  <tbody>\n",
              "    <tr>\n",
              "      <th>0</th>\n",
              "      <td>nobell[.]it/70ffb52d079109dca5664cce6f31737378...</td>\n",
              "      <td>225</td>\n",
              "      <td>True</td>\n",
              "    </tr>\n",
              "    <tr>\n",
              "      <th>1</th>\n",
              "      <td>www[.]dghjdgf[.]com/paypal[.]co[.]uk/cycgi-bin...</td>\n",
              "      <td>81</td>\n",
              "      <td>True</td>\n",
              "    </tr>\n",
              "    <tr>\n",
              "      <th>2</th>\n",
              "      <td>serviciosbys[.]com/paypal[.]cgi[.]bin[.]get-in...</td>\n",
              "      <td>177</td>\n",
              "      <td>True</td>\n",
              "    </tr>\n",
              "    <tr>\n",
              "      <th>3</th>\n",
              "      <td>mail[.]printakid[.]com/www[.]online[.]american...</td>\n",
              "      <td>60</td>\n",
              "      <td>True</td>\n",
              "    </tr>\n",
              "    <tr>\n",
              "      <th>4</th>\n",
              "      <td>thewhiskeydregs[.]com/wp-content/themes/widesc...</td>\n",
              "      <td>116</td>\n",
              "      <td>True</td>\n",
              "    </tr>\n",
              "    <tr>\n",
              "      <th>...</th>\n",
              "      <td>...</td>\n",
              "      <td>...</td>\n",
              "      <td>...</td>\n",
              "    </tr>\n",
              "    <tr>\n",
              "      <th>95</th>\n",
              "      <td>rsaxena[.]5gbfree[.]com/facebook[.]html</td>\n",
              "      <td>33</td>\n",
              "      <td>True</td>\n",
              "    </tr>\n",
              "    <tr>\n",
              "      <th>96</th>\n",
              "      <td>steamcommunity-giveaway[.]my3gb[.]com</td>\n",
              "      <td>33</td>\n",
              "      <td>True</td>\n",
              "    </tr>\n",
              "    <tr>\n",
              "      <th>97</th>\n",
              "      <td>steamglfts[.]h16[.]ru</td>\n",
              "      <td>17</td>\n",
              "      <td>True</td>\n",
              "    </tr>\n",
              "    <tr>\n",
              "      <th>98</th>\n",
              "      <td>steamglfts[.]hut2[.]ru/</td>\n",
              "      <td>19</td>\n",
              "      <td>True</td>\n",
              "    </tr>\n",
              "    <tr>\n",
              "      <th>99</th>\n",
              "      <td>vinzajah[.]5gbfree[.]com/login[.]php</td>\n",
              "      <td>30</td>\n",
              "      <td>True</td>\n",
              "    </tr>\n",
              "  </tbody>\n",
              "</table>\n",
              "<p>100 rows × 3 columns</p>\n",
              "</div>\n",
              "      <button class=\"colab-df-convert\" onclick=\"convertToInteractive('df-1088014c-ad01-48e4-9f50-7bff9e4f8221')\"\n",
              "              title=\"Convert this dataframe to an interactive table.\"\n",
              "              style=\"display:none;\">\n",
              "        \n",
              "  <svg xmlns=\"http://www.w3.org/2000/svg\" height=\"24px\"viewBox=\"0 0 24 24\"\n",
              "       width=\"24px\">\n",
              "    <path d=\"M0 0h24v24H0V0z\" fill=\"none\"/>\n",
              "    <path d=\"M18.56 5.44l.94 2.06.94-2.06 2.06-.94-2.06-.94-.94-2.06-.94 2.06-2.06.94zm-11 1L8.5 8.5l.94-2.06 2.06-.94-2.06-.94L8.5 2.5l-.94 2.06-2.06.94zm10 10l.94 2.06.94-2.06 2.06-.94-2.06-.94-.94-2.06-.94 2.06-2.06.94z\"/><path d=\"M17.41 7.96l-1.37-1.37c-.4-.4-.92-.59-1.43-.59-.52 0-1.04.2-1.43.59L10.3 9.45l-7.72 7.72c-.78.78-.78 2.05 0 2.83L4 21.41c.39.39.9.59 1.41.59.51 0 1.02-.2 1.41-.59l7.78-7.78 2.81-2.81c.8-.78.8-2.07 0-2.86zM5.41 20L4 18.59l7.72-7.72 1.47 1.35L5.41 20z\"/>\n",
              "  </svg>\n",
              "      </button>\n",
              "      \n",
              "  <style>\n",
              "    .colab-df-container {\n",
              "      display:flex;\n",
              "      flex-wrap:wrap;\n",
              "      gap: 12px;\n",
              "    }\n",
              "\n",
              "    .colab-df-convert {\n",
              "      background-color: #E8F0FE;\n",
              "      border: none;\n",
              "      border-radius: 50%;\n",
              "      cursor: pointer;\n",
              "      display: none;\n",
              "      fill: #1967D2;\n",
              "      height: 32px;\n",
              "      padding: 0 0 0 0;\n",
              "      width: 32px;\n",
              "    }\n",
              "\n",
              "    .colab-df-convert:hover {\n",
              "      background-color: #E2EBFA;\n",
              "      box-shadow: 0px 1px 2px rgba(60, 64, 67, 0.3), 0px 1px 3px 1px rgba(60, 64, 67, 0.15);\n",
              "      fill: #174EA6;\n",
              "    }\n",
              "\n",
              "    [theme=dark] .colab-df-convert {\n",
              "      background-color: #3B4455;\n",
              "      fill: #D2E3FC;\n",
              "    }\n",
              "\n",
              "    [theme=dark] .colab-df-convert:hover {\n",
              "      background-color: #434B5C;\n",
              "      box-shadow: 0px 1px 3px 1px rgba(0, 0, 0, 0.15);\n",
              "      filter: drop-shadow(0px 1px 2px rgba(0, 0, 0, 0.3));\n",
              "      fill: #FFFFFF;\n",
              "    }\n",
              "  </style>\n",
              "\n",
              "      <script>\n",
              "        const buttonEl =\n",
              "          document.querySelector('#df-1088014c-ad01-48e4-9f50-7bff9e4f8221 button.colab-df-convert');\n",
              "        buttonEl.style.display =\n",
              "          google.colab.kernel.accessAllowed ? 'block' : 'none';\n",
              "\n",
              "        async function convertToInteractive(key) {\n",
              "          const element = document.querySelector('#df-1088014c-ad01-48e4-9f50-7bff9e4f8221');\n",
              "          const dataTable =\n",
              "            await google.colab.kernel.invokeFunction('convertToInteractive',\n",
              "                                                     [key], {});\n",
              "          if (!dataTable) return;\n",
              "\n",
              "          const docLinkHtml = 'Like what you see? Visit the ' +\n",
              "            '<a target=\"_blank\" href=https://colab.research.google.com/notebooks/data_table.ipynb>data table notebook</a>'\n",
              "            + ' to learn more about interactive tables.';\n",
              "          element.innerHTML = '';\n",
              "          dataTable['output_type'] = 'display_data';\n",
              "          await google.colab.output.renderOutput(dataTable, element);\n",
              "          const docLink = document.createElement('div');\n",
              "          docLink.innerHTML = docLinkHtml;\n",
              "          element.appendChild(docLink);\n",
              "        }\n",
              "      </script>\n",
              "    </div>\n",
              "  </div>\n",
              "  "
            ]
          },
          "metadata": {},
          "execution_count": 6
        }
      ],
      "source": [
        "data.head(100)"
      ]
    },
    {
      "cell_type": "code",
      "execution_count": null,
      "metadata": {
        "id": "kUorVlSNrw7R"
      },
      "outputs": [],
      "source": [
        "periodcountlist = []\n",
        "periodcount = 0\n",
        "for i in range(len(data)):\n",
        "  periodcount = 0\n",
        "  if data['phishing_attempt'].iloc[i] == False:\n",
        "     print(data['url'].iloc[i][-3])\n",
        "     period = data['url'].iloc[i]\n",
        "     for j in range(len(period)): \n",
        "       if period[j] == '.':\n",
        "         periodcount +=1\n",
        "         periodcountlist.append(periodcount)\n",
        "\n",
        "# print(periodcountlist)\n",
        "# print(\"\\n\")"
      ]
    },
    {
      "cell_type": "code",
      "execution_count": null,
      "metadata": {
        "id": "wWqFzeTe6XI9"
      },
      "outputs": [],
      "source": [
        "\n",
        "data['biz_character_count'] = data['url'].apply(lambda x: int('.biz' in x))\n",
        "\n",
        "data['com_count_in_url'] = data['url'].apply(lambda x: int('.com'  in x))"
      ]
    },
    {
      "cell_type": "code",
      "execution_count": null,
      "metadata": {
        "id": "WIuEEMVvJhrD"
      },
      "outputs": [],
      "source": [
        "data['period_count'] = periodcountlist"
      ]
    },
    {
      "cell_type": "markdown",
      "metadata": {
        "id": "D2oXAYAUP1FV"
      },
      "source": [
        ""
      ]
    },
    {
      "cell_type": "code",
      "execution_count": null,
      "metadata": {
        "colab": {
          "base_uri": "https://localhost:8080/",
          "height": 540
        },
        "id": "XOVl7mEgO1Y5",
        "outputId": "05f95ed8-057a-4198-dc68-9f42555aff9b"
      },
      "outputs": [
        {
          "output_type": "execute_result",
          "data": {
            "text/plain": [
              "                                                     url  url_character_count  \\\n",
              "18231  esxcc[.]com/js/index[.]htm?us[.]battle[.]net/n...                  540   \n",
              "18232  www\u000eeira�&nvinip�ncH�wV�%��yDaH��/�yE�u\u0003�\\n�\u00176...                  332   \n",
              "18233  'www[.]institutocgr[.]coo/web/media/syqvem/dk-...                  323   \n",
              "18234                       \u0011\u0018Y��\n",
              "ko�ջΧD��\u0002l����qt�/�; �                   28   \n",
              "18236  ruta89fm[.]com/images/AS@Vies/1i75cf7b16vc<F\u0015d...                  305   \n",
              "...                                                  ...                  ...   \n",
              "96000      xbox360[.]ign[.]com/objects/850/850402[.]html                   39   \n",
              "96001   games[.]teamxbox[.]com/xbox-360/1860/Dead-Space/                   44   \n",
              "96002     www[.]gamespot[.]com/xbox360/action/deadspace/                   42   \n",
              "96003  en[.]wikipedia[.]org/wiki/Dead_Space_(video_game)                   45   \n",
              "96004      www[.]angelfire[.]com/goth/devilmaycrytonite/                   41   \n",
              "\n",
              "       phishing_attempt  biz_character_count  com_count_in_url  \\\n",
              "18231             False                    0                 1   \n",
              "18232             False                    0                 0   \n",
              "18233             False                    0                 0   \n",
              "18234             False                    0                 0   \n",
              "18236             False                    0                 1   \n",
              "...                 ...                  ...               ...   \n",
              "96000             False                    0                 1   \n",
              "96001             False                    0                 1   \n",
              "96002             False                    0                 1   \n",
              "96003             False                    0                 0   \n",
              "96004             False                    0                 1   \n",
              "\n",
              "       numeric_character_count  slash_count_in_url  www_count_in_url  \\\n",
              "18231                       23                   1                 0   \n",
              "18232                       13                   1                 1   \n",
              "18233                        6                   1                 1   \n",
              "18234                        0                   1                 0   \n",
              "18236                       30                   1                 0   \n",
              "...                        ...                 ...               ...   \n",
              "96000                       12                   1                 0   \n",
              "96001                        7                   1                 0   \n",
              "96002                        3                   1                 1   \n",
              "96003                        0                   1                 0   \n",
              "96004                        0                   1                 1   \n",
              "\n",
              "       php_count_in_url  paypal_count_in_url  wp_count_in_url  -_count_in_url  \\\n",
              "18231                 0                    0                0               1   \n",
              "18232                 0                    0                0               1   \n",
              "18233                 0                    0                0               1   \n",
              "18234                 0                    0                0               0   \n",
              "18236                 0                    0                0               0   \n",
              "...                 ...                  ...              ...             ...   \n",
              "96000                 0                    0                0               0   \n",
              "96001                 0                    0                0               1   \n",
              "96002                 0                    0                0               0   \n",
              "96003                 0                    0                0               0   \n",
              "96004                 0                    0                0               0   \n",
              "\n",
              "       identification_count_in_url  net_count_in_url  \n",
              "18231                            0                 1  \n",
              "18232                            0                 0  \n",
              "18233                            0                 0  \n",
              "18234                            0                 0  \n",
              "18236                            0                 0  \n",
              "...                            ...               ...  \n",
              "96000                            0                 0  \n",
              "96001                            0                 0  \n",
              "96002                            0                 0  \n",
              "96003                            0                 0  \n",
              "96004                            0                 0  \n",
              "\n",
              "[48101 rows x 14 columns]"
            ],
            "text/html": [
              "\n",
              "  <div id=\"df-9a2c77b3-9cf8-407f-a71f-8e2c0f85a8ea\">\n",
              "    <div class=\"colab-df-container\">\n",
              "      <div>\n",
              "<style scoped>\n",
              "    .dataframe tbody tr th:only-of-type {\n",
              "        vertical-align: middle;\n",
              "    }\n",
              "\n",
              "    .dataframe tbody tr th {\n",
              "        vertical-align: top;\n",
              "    }\n",
              "\n",
              "    .dataframe thead th {\n",
              "        text-align: right;\n",
              "    }\n",
              "</style>\n",
              "<table border=\"1\" class=\"dataframe\">\n",
              "  <thead>\n",
              "    <tr style=\"text-align: right;\">\n",
              "      <th></th>\n",
              "      <th>url</th>\n",
              "      <th>url_character_count</th>\n",
              "      <th>phishing_attempt</th>\n",
              "      <th>biz_character_count</th>\n",
              "      <th>com_count_in_url</th>\n",
              "      <th>numeric_character_count</th>\n",
              "      <th>slash_count_in_url</th>\n",
              "      <th>www_count_in_url</th>\n",
              "      <th>php_count_in_url</th>\n",
              "      <th>paypal_count_in_url</th>\n",
              "      <th>wp_count_in_url</th>\n",
              "      <th>-_count_in_url</th>\n",
              "      <th>identification_count_in_url</th>\n",
              "      <th>net_count_in_url</th>\n",
              "    </tr>\n",
              "  </thead>\n",
              "  <tbody>\n",
              "    <tr>\n",
              "      <th>18231</th>\n",
              "      <td>esxcc[.]com/js/index[.]htm?us[.]battle[.]net/n...</td>\n",
              "      <td>540</td>\n",
              "      <td>False</td>\n",
              "      <td>0</td>\n",
              "      <td>1</td>\n",
              "      <td>23</td>\n",
              "      <td>1</td>\n",
              "      <td>0</td>\n",
              "      <td>0</td>\n",
              "      <td>0</td>\n",
              "      <td>0</td>\n",
              "      <td>1</td>\n",
              "      <td>0</td>\n",
              "      <td>1</td>\n",
              "    </tr>\n",
              "    <tr>\n",
              "      <th>18232</th>\n",
              "      <td>www\u000eeira�&amp;nvinip�ncH�wV�%��yDaH��/�yE�u\u0003�\\n�\u00176...</td>\n",
              "      <td>332</td>\n",
              "      <td>False</td>\n",
              "      <td>0</td>\n",
              "      <td>0</td>\n",
              "      <td>13</td>\n",
              "      <td>1</td>\n",
              "      <td>1</td>\n",
              "      <td>0</td>\n",
              "      <td>0</td>\n",
              "      <td>0</td>\n",
              "      <td>1</td>\n",
              "      <td>0</td>\n",
              "      <td>0</td>\n",
              "    </tr>\n",
              "    <tr>\n",
              "      <th>18233</th>\n",
              "      <td>'www[.]institutocgr[.]coo/web/media/syqvem/dk-...</td>\n",
              "      <td>323</td>\n",
              "      <td>False</td>\n",
              "      <td>0</td>\n",
              "      <td>0</td>\n",
              "      <td>6</td>\n",
              "      <td>1</td>\n",
              "      <td>1</td>\n",
              "      <td>0</td>\n",
              "      <td>0</td>\n",
              "      <td>0</td>\n",
              "      <td>1</td>\n",
              "      <td>0</td>\n",
              "      <td>0</td>\n",
              "    </tr>\n",
              "    <tr>\n",
              "      <th>18234</th>\n",
              "      <td>\u0011\u0018Y��\fko�ջΧD��\u0002l����qt�/�; �</td>\n",
              "      <td>28</td>\n",
              "      <td>False</td>\n",
              "      <td>0</td>\n",
              "      <td>0</td>\n",
              "      <td>0</td>\n",
              "      <td>1</td>\n",
              "      <td>0</td>\n",
              "      <td>0</td>\n",
              "      <td>0</td>\n",
              "      <td>0</td>\n",
              "      <td>0</td>\n",
              "      <td>0</td>\n",
              "      <td>0</td>\n",
              "    </tr>\n",
              "    <tr>\n",
              "      <th>18236</th>\n",
              "      <td>ruta89fm[.]com/images/AS@Vies/1i75cf7b16vc&lt;F\u0015d...</td>\n",
              "      <td>305</td>\n",
              "      <td>False</td>\n",
              "      <td>0</td>\n",
              "      <td>1</td>\n",
              "      <td>30</td>\n",
              "      <td>1</td>\n",
              "      <td>0</td>\n",
              "      <td>0</td>\n",
              "      <td>0</td>\n",
              "      <td>0</td>\n",
              "      <td>0</td>\n",
              "      <td>0</td>\n",
              "      <td>0</td>\n",
              "    </tr>\n",
              "    <tr>\n",
              "      <th>...</th>\n",
              "      <td>...</td>\n",
              "      <td>...</td>\n",
              "      <td>...</td>\n",
              "      <td>...</td>\n",
              "      <td>...</td>\n",
              "      <td>...</td>\n",
              "      <td>...</td>\n",
              "      <td>...</td>\n",
              "      <td>...</td>\n",
              "      <td>...</td>\n",
              "      <td>...</td>\n",
              "      <td>...</td>\n",
              "      <td>...</td>\n",
              "      <td>...</td>\n",
              "    </tr>\n",
              "    <tr>\n",
              "      <th>96000</th>\n",
              "      <td>xbox360[.]ign[.]com/objects/850/850402[.]html</td>\n",
              "      <td>39</td>\n",
              "      <td>False</td>\n",
              "      <td>0</td>\n",
              "      <td>1</td>\n",
              "      <td>12</td>\n",
              "      <td>1</td>\n",
              "      <td>0</td>\n",
              "      <td>0</td>\n",
              "      <td>0</td>\n",
              "      <td>0</td>\n",
              "      <td>0</td>\n",
              "      <td>0</td>\n",
              "      <td>0</td>\n",
              "    </tr>\n",
              "    <tr>\n",
              "      <th>96001</th>\n",
              "      <td>games[.]teamxbox[.]com/xbox-360/1860/Dead-Space/</td>\n",
              "      <td>44</td>\n",
              "      <td>False</td>\n",
              "      <td>0</td>\n",
              "      <td>1</td>\n",
              "      <td>7</td>\n",
              "      <td>1</td>\n",
              "      <td>0</td>\n",
              "      <td>0</td>\n",
              "      <td>0</td>\n",
              "      <td>0</td>\n",
              "      <td>1</td>\n",
              "      <td>0</td>\n",
              "      <td>0</td>\n",
              "    </tr>\n",
              "    <tr>\n",
              "      <th>96002</th>\n",
              "      <td>www[.]gamespot[.]com/xbox360/action/deadspace/</td>\n",
              "      <td>42</td>\n",
              "      <td>False</td>\n",
              "      <td>0</td>\n",
              "      <td>1</td>\n",
              "      <td>3</td>\n",
              "      <td>1</td>\n",
              "      <td>1</td>\n",
              "      <td>0</td>\n",
              "      <td>0</td>\n",
              "      <td>0</td>\n",
              "      <td>0</td>\n",
              "      <td>0</td>\n",
              "      <td>0</td>\n",
              "    </tr>\n",
              "    <tr>\n",
              "      <th>96003</th>\n",
              "      <td>en[.]wikipedia[.]org/wiki/Dead_Space_(video_game)</td>\n",
              "      <td>45</td>\n",
              "      <td>False</td>\n",
              "      <td>0</td>\n",
              "      <td>0</td>\n",
              "      <td>0</td>\n",
              "      <td>1</td>\n",
              "      <td>0</td>\n",
              "      <td>0</td>\n",
              "      <td>0</td>\n",
              "      <td>0</td>\n",
              "      <td>0</td>\n",
              "      <td>0</td>\n",
              "      <td>0</td>\n",
              "    </tr>\n",
              "    <tr>\n",
              "      <th>96004</th>\n",
              "      <td>www[.]angelfire[.]com/goth/devilmaycrytonite/</td>\n",
              "      <td>41</td>\n",
              "      <td>False</td>\n",
              "      <td>0</td>\n",
              "      <td>1</td>\n",
              "      <td>0</td>\n",
              "      <td>1</td>\n",
              "      <td>1</td>\n",
              "      <td>0</td>\n",
              "      <td>0</td>\n",
              "      <td>0</td>\n",
              "      <td>0</td>\n",
              "      <td>0</td>\n",
              "      <td>0</td>\n",
              "    </tr>\n",
              "  </tbody>\n",
              "</table>\n",
              "<p>48101 rows × 14 columns</p>\n",
              "</div>\n",
              "      <button class=\"colab-df-convert\" onclick=\"convertToInteractive('df-9a2c77b3-9cf8-407f-a71f-8e2c0f85a8ea')\"\n",
              "              title=\"Convert this dataframe to an interactive table.\"\n",
              "              style=\"display:none;\">\n",
              "        \n",
              "  <svg xmlns=\"http://www.w3.org/2000/svg\" height=\"24px\"viewBox=\"0 0 24 24\"\n",
              "       width=\"24px\">\n",
              "    <path d=\"M0 0h24v24H0V0z\" fill=\"none\"/>\n",
              "    <path d=\"M18.56 5.44l.94 2.06.94-2.06 2.06-.94-2.06-.94-.94-2.06-.94 2.06-2.06.94zm-11 1L8.5 8.5l.94-2.06 2.06-.94-2.06-.94L8.5 2.5l-.94 2.06-2.06.94zm10 10l.94 2.06.94-2.06 2.06-.94-2.06-.94-.94-2.06-.94 2.06-2.06.94z\"/><path d=\"M17.41 7.96l-1.37-1.37c-.4-.4-.92-.59-1.43-.59-.52 0-1.04.2-1.43.59L10.3 9.45l-7.72 7.72c-.78.78-.78 2.05 0 2.83L4 21.41c.39.39.9.59 1.41.59.51 0 1.02-.2 1.41-.59l7.78-7.78 2.81-2.81c.8-.78.8-2.07 0-2.86zM5.41 20L4 18.59l7.72-7.72 1.47 1.35L5.41 20z\"/>\n",
              "  </svg>\n",
              "      </button>\n",
              "      \n",
              "  <style>\n",
              "    .colab-df-container {\n",
              "      display:flex;\n",
              "      flex-wrap:wrap;\n",
              "      gap: 12px;\n",
              "    }\n",
              "\n",
              "    .colab-df-convert {\n",
              "      background-color: #E8F0FE;\n",
              "      border: none;\n",
              "      border-radius: 50%;\n",
              "      cursor: pointer;\n",
              "      display: none;\n",
              "      fill: #1967D2;\n",
              "      height: 32px;\n",
              "      padding: 0 0 0 0;\n",
              "      width: 32px;\n",
              "    }\n",
              "\n",
              "    .colab-df-convert:hover {\n",
              "      background-color: #E2EBFA;\n",
              "      box-shadow: 0px 1px 2px rgba(60, 64, 67, 0.3), 0px 1px 3px 1px rgba(60, 64, 67, 0.15);\n",
              "      fill: #174EA6;\n",
              "    }\n",
              "\n",
              "    [theme=dark] .colab-df-convert {\n",
              "      background-color: #3B4455;\n",
              "      fill: #D2E3FC;\n",
              "    }\n",
              "\n",
              "    [theme=dark] .colab-df-convert:hover {\n",
              "      background-color: #434B5C;\n",
              "      box-shadow: 0px 1px 3px 1px rgba(0, 0, 0, 0.15);\n",
              "      filter: drop-shadow(0px 1px 2px rgba(0, 0, 0, 0.3));\n",
              "      fill: #FFFFFF;\n",
              "    }\n",
              "  </style>\n",
              "\n",
              "      <script>\n",
              "        const buttonEl =\n",
              "          document.querySelector('#df-9a2c77b3-9cf8-407f-a71f-8e2c0f85a8ea button.colab-df-convert');\n",
              "        buttonEl.style.display =\n",
              "          google.colab.kernel.accessAllowed ? 'block' : 'none';\n",
              "\n",
              "        async function convertToInteractive(key) {\n",
              "          const element = document.querySelector('#df-9a2c77b3-9cf8-407f-a71f-8e2c0f85a8ea');\n",
              "          const dataTable =\n",
              "            await google.colab.kernel.invokeFunction('convertToInteractive',\n",
              "                                                     [key], {});\n",
              "          if (!dataTable) return;\n",
              "\n",
              "          const docLinkHtml = 'Like what you see? Visit the ' +\n",
              "            '<a target=\"_blank\" href=https://colab.research.google.com/notebooks/data_table.ipynb>data table notebook</a>'\n",
              "            + ' to learn more about interactive tables.';\n",
              "          element.innerHTML = '';\n",
              "          dataTable['output_type'] = 'display_data';\n",
              "          await google.colab.output.renderOutput(dataTable, element);\n",
              "          const docLink = document.createElement('div');\n",
              "          docLink.innerHTML = docLinkHtml;\n",
              "          element.appendChild(docLink);\n",
              "        }\n",
              "      </script>\n",
              "    </div>\n",
              "  </div>\n",
              "  "
            ]
          },
          "metadata": {},
          "execution_count": 27
        }
      ],
      "source": [
        "data[data[\"phishing_attempt\"] == False]"
      ]
    },
    {
      "cell_type": "code",
      "execution_count": null,
      "metadata": {
        "colab": {
          "base_uri": "https://localhost:8080/",
          "height": 206
        },
        "id": "AdAwWT_pOvkQ",
        "outputId": "1c451059-dc8b-4b7a-88df-3c56b91e973a"
      },
      "outputs": [
        {
          "output_type": "execute_result",
          "data": {
            "text/plain": [
              "                                                 url  url_character_count  \\\n",
              "0  nobell[.]it/70ffb52d079109dca5664cce6f31737378...                  225   \n",
              "1  www[.]dghjdgf[.]com/paypal[.]co[.]uk/cycgi-bin...                   81   \n",
              "2  serviciosbys[.]com/paypal[.]cgi[.]bin[.]get-in...                  177   \n",
              "3  mail[.]printakid[.]com/www[.]online[.]american...                   60   \n",
              "4  thewhiskeydregs[.]com/wp-content/themes/widesc...                  116   \n",
              "\n",
              "   phishing_attempt  biz_character_count  com_count_in_url  \n",
              "0              True                    0                 0  \n",
              "1              True                    0                 0  \n",
              "2              True                    0                 0  \n",
              "3              True                    0                 0  \n",
              "4              True                    0                 0  "
            ],
            "text/html": [
              "\n",
              "  <div id=\"df-e5c3aa41-a284-4883-a2e9-f0370191493b\">\n",
              "    <div class=\"colab-df-container\">\n",
              "      <div>\n",
              "<style scoped>\n",
              "    .dataframe tbody tr th:only-of-type {\n",
              "        vertical-align: middle;\n",
              "    }\n",
              "\n",
              "    .dataframe tbody tr th {\n",
              "        vertical-align: top;\n",
              "    }\n",
              "\n",
              "    .dataframe thead th {\n",
              "        text-align: right;\n",
              "    }\n",
              "</style>\n",
              "<table border=\"1\" class=\"dataframe\">\n",
              "  <thead>\n",
              "    <tr style=\"text-align: right;\">\n",
              "      <th></th>\n",
              "      <th>url</th>\n",
              "      <th>url_character_count</th>\n",
              "      <th>phishing_attempt</th>\n",
              "      <th>biz_character_count</th>\n",
              "      <th>com_count_in_url</th>\n",
              "    </tr>\n",
              "  </thead>\n",
              "  <tbody>\n",
              "    <tr>\n",
              "      <th>0</th>\n",
              "      <td>nobell[.]it/70ffb52d079109dca5664cce6f31737378...</td>\n",
              "      <td>225</td>\n",
              "      <td>True</td>\n",
              "      <td>0</td>\n",
              "      <td>0</td>\n",
              "    </tr>\n",
              "    <tr>\n",
              "      <th>1</th>\n",
              "      <td>www[.]dghjdgf[.]com/paypal[.]co[.]uk/cycgi-bin...</td>\n",
              "      <td>81</td>\n",
              "      <td>True</td>\n",
              "      <td>0</td>\n",
              "      <td>0</td>\n",
              "    </tr>\n",
              "    <tr>\n",
              "      <th>2</th>\n",
              "      <td>serviciosbys[.]com/paypal[.]cgi[.]bin[.]get-in...</td>\n",
              "      <td>177</td>\n",
              "      <td>True</td>\n",
              "      <td>0</td>\n",
              "      <td>0</td>\n",
              "    </tr>\n",
              "    <tr>\n",
              "      <th>3</th>\n",
              "      <td>mail[.]printakid[.]com/www[.]online[.]american...</td>\n",
              "      <td>60</td>\n",
              "      <td>True</td>\n",
              "      <td>0</td>\n",
              "      <td>0</td>\n",
              "    </tr>\n",
              "    <tr>\n",
              "      <th>4</th>\n",
              "      <td>thewhiskeydregs[.]com/wp-content/themes/widesc...</td>\n",
              "      <td>116</td>\n",
              "      <td>True</td>\n",
              "      <td>0</td>\n",
              "      <td>0</td>\n",
              "    </tr>\n",
              "  </tbody>\n",
              "</table>\n",
              "</div>\n",
              "      <button class=\"colab-df-convert\" onclick=\"convertToInteractive('df-e5c3aa41-a284-4883-a2e9-f0370191493b')\"\n",
              "              title=\"Convert this dataframe to an interactive table.\"\n",
              "              style=\"display:none;\">\n",
              "        \n",
              "  <svg xmlns=\"http://www.w3.org/2000/svg\" height=\"24px\"viewBox=\"0 0 24 24\"\n",
              "       width=\"24px\">\n",
              "    <path d=\"M0 0h24v24H0V0z\" fill=\"none\"/>\n",
              "    <path d=\"M18.56 5.44l.94 2.06.94-2.06 2.06-.94-2.06-.94-.94-2.06-.94 2.06-2.06.94zm-11 1L8.5 8.5l.94-2.06 2.06-.94-2.06-.94L8.5 2.5l-.94 2.06-2.06.94zm10 10l.94 2.06.94-2.06 2.06-.94-2.06-.94-.94-2.06-.94 2.06-2.06.94z\"/><path d=\"M17.41 7.96l-1.37-1.37c-.4-.4-.92-.59-1.43-.59-.52 0-1.04.2-1.43.59L10.3 9.45l-7.72 7.72c-.78.78-.78 2.05 0 2.83L4 21.41c.39.39.9.59 1.41.59.51 0 1.02-.2 1.41-.59l7.78-7.78 2.81-2.81c.8-.78.8-2.07 0-2.86zM5.41 20L4 18.59l7.72-7.72 1.47 1.35L5.41 20z\"/>\n",
              "  </svg>\n",
              "      </button>\n",
              "      \n",
              "  <style>\n",
              "    .colab-df-container {\n",
              "      display:flex;\n",
              "      flex-wrap:wrap;\n",
              "      gap: 12px;\n",
              "    }\n",
              "\n",
              "    .colab-df-convert {\n",
              "      background-color: #E8F0FE;\n",
              "      border: none;\n",
              "      border-radius: 50%;\n",
              "      cursor: pointer;\n",
              "      display: none;\n",
              "      fill: #1967D2;\n",
              "      height: 32px;\n",
              "      padding: 0 0 0 0;\n",
              "      width: 32px;\n",
              "    }\n",
              "\n",
              "    .colab-df-convert:hover {\n",
              "      background-color: #E2EBFA;\n",
              "      box-shadow: 0px 1px 2px rgba(60, 64, 67, 0.3), 0px 1px 3px 1px rgba(60, 64, 67, 0.15);\n",
              "      fill: #174EA6;\n",
              "    }\n",
              "\n",
              "    [theme=dark] .colab-df-convert {\n",
              "      background-color: #3B4455;\n",
              "      fill: #D2E3FC;\n",
              "    }\n",
              "\n",
              "    [theme=dark] .colab-df-convert:hover {\n",
              "      background-color: #434B5C;\n",
              "      box-shadow: 0px 1px 3px 1px rgba(0, 0, 0, 0.15);\n",
              "      filter: drop-shadow(0px 1px 2px rgba(0, 0, 0, 0.3));\n",
              "      fill: #FFFFFF;\n",
              "    }\n",
              "  </style>\n",
              "\n",
              "      <script>\n",
              "        const buttonEl =\n",
              "          document.querySelector('#df-e5c3aa41-a284-4883-a2e9-f0370191493b button.colab-df-convert');\n",
              "        buttonEl.style.display =\n",
              "          google.colab.kernel.accessAllowed ? 'block' : 'none';\n",
              "\n",
              "        async function convertToInteractive(key) {\n",
              "          const element = document.querySelector('#df-e5c3aa41-a284-4883-a2e9-f0370191493b');\n",
              "          const dataTable =\n",
              "            await google.colab.kernel.invokeFunction('convertToInteractive',\n",
              "                                                     [key], {});\n",
              "          if (!dataTable) return;\n",
              "\n",
              "          const docLinkHtml = 'Like what you see? Visit the ' +\n",
              "            '<a target=\"_blank\" href=https://colab.research.google.com/notebooks/data_table.ipynb>data table notebook</a>'\n",
              "            + ' to learn more about interactive tables.';\n",
              "          element.innerHTML = '';\n",
              "          dataTable['output_type'] = 'display_data';\n",
              "          await google.colab.output.renderOutput(dataTable, element);\n",
              "          const docLink = document.createElement('div');\n",
              "          docLink.innerHTML = docLinkHtml;\n",
              "          element.appendChild(docLink);\n",
              "        }\n",
              "      </script>\n",
              "    </div>\n",
              "  </div>\n",
              "  "
            ]
          },
          "metadata": {},
          "execution_count": 11
        }
      ],
      "source": [
        "data.head()"
      ]
    },
    {
      "cell_type": "code",
      "execution_count": null,
      "metadata": {
        "id": "QqfxVpG-GkD5"
      },
      "outputs": [],
      "source": [
        "for i in range(len(data)):\n",
        "  if data['phishing_attempt'].iloc[i] == False:\n",
        "   max(periodcountlist)"
      ]
    },
    {
      "cell_type": "code",
      "execution_count": null,
      "metadata": {
        "colab": {
          "base_uri": "https://localhost:8080/",
          "height": 53
        },
        "id": "5FH6CiE59c5l",
        "outputId": "fc5054df-f0c8-4c8c-af32-a1322efa357a"
      },
      "outputs": [
        {
          "output_type": "execute_result",
          "data": {
            "text/plain": [
              "'nobell[.]it/70ffb52d079109dca5664cce6f317373782/login[.]SkyPe[.]com/en/cgi-bin/verification/login/70ffb52d079109dca5664cce6f317373/index[.]php?cmd=_profile-ach&outdated_page_tmpl=p/gen/failed-to-load&nav=0[.]5[.]1&login_access=1322408526'"
            ],
            "application/vnd.google.colaboratory.intrinsic+json": {
              "type": "string"
            }
          },
          "metadata": {},
          "execution_count": 13
        }
      ],
      "source": [
        "data['url'].iloc[0]"
      ]
    },
    {
      "cell_type": "markdown",
      "metadata": {
        "id": "K5qzDaqZtj7v"
      },
      "source": [
        "## 2. Data exploration\n"
      ]
    },
    {
      "cell_type": "markdown",
      "metadata": {
        "id": "atQD1HnKtq_K"
      },
      "source": [
        "Data exploration is one of the most interesting and informative steps in any data science project. The purpose of this step is simply to use descriptive statistics, filtering, and simply looking through the data in order to better understand its contents.\n",
        "\n",
        "The given data has three columns: a given URL, the number of characters in that URL, and a label indicating whether or not the URL is a phishing attempt."
      ]
    },
    {
      "cell_type": "code",
      "execution_count": null,
      "metadata": {
        "colab": {
          "base_uri": "https://localhost:8080/"
        },
        "id": "bssBWYHTtib2",
        "outputId": "40ade275-4a79-4b77-aa3e-a6ad954b8e4d"
      },
      "outputs": [
        {
          "data": {
            "text/html": [
              "\n",
              "  <div id=\"df-073dbd00-63c1-4282-9527-f65314063d23\">\n",
              "    <div class=\"colab-df-container\">\n",
              "      <div>\n",
              "<style scoped>\n",
              "    .dataframe tbody tr th:only-of-type {\n",
              "        vertical-align: middle;\n",
              "    }\n",
              "\n",
              "    .dataframe tbody tr th {\n",
              "        vertical-align: top;\n",
              "    }\n",
              "\n",
              "    .dataframe thead th {\n",
              "        text-align: right;\n",
              "    }\n",
              "</style>\n",
              "<table border=\"1\" class=\"dataframe\">\n",
              "  <thead>\n",
              "    <tr style=\"text-align: right;\">\n",
              "      <th></th>\n",
              "      <th>url</th>\n",
              "      <th>url_character_count</th>\n",
              "      <th>phishing_attempt</th>\n",
              "      <th>biz_character_count</th>\n",
              "      <th>com_count_in_url</th>\n",
              "    </tr>\n",
              "  </thead>\n",
              "  <tbody>\n",
              "    <tr>\n",
              "      <th>0</th>\n",
              "      <td>nobell[.]it/70ffb52d079109dca5664cce6f31737378...</td>\n",
              "      <td>225</td>\n",
              "      <td>True</td>\n",
              "      <td>0</td>\n",
              "      <td>0</td>\n",
              "    </tr>\n",
              "    <tr>\n",
              "      <th>1</th>\n",
              "      <td>www[.]dghjdgf[.]com/paypal[.]co[.]uk/cycgi-bin...</td>\n",
              "      <td>81</td>\n",
              "      <td>True</td>\n",
              "      <td>0</td>\n",
              "      <td>0</td>\n",
              "    </tr>\n",
              "    <tr>\n",
              "      <th>2</th>\n",
              "      <td>serviciosbys[.]com/paypal[.]cgi[.]bin[.]get-in...</td>\n",
              "      <td>177</td>\n",
              "      <td>True</td>\n",
              "      <td>0</td>\n",
              "      <td>0</td>\n",
              "    </tr>\n",
              "    <tr>\n",
              "      <th>3</th>\n",
              "      <td>mail[.]printakid[.]com/www[.]online[.]american...</td>\n",
              "      <td>60</td>\n",
              "      <td>True</td>\n",
              "      <td>0</td>\n",
              "      <td>0</td>\n",
              "    </tr>\n",
              "    <tr>\n",
              "      <th>4</th>\n",
              "      <td>thewhiskeydregs[.]com/wp-content/themes/widesc...</td>\n",
              "      <td>116</td>\n",
              "      <td>True</td>\n",
              "      <td>0</td>\n",
              "      <td>0</td>\n",
              "    </tr>\n",
              "    <tr>\n",
              "      <th>...</th>\n",
              "      <td>...</td>\n",
              "      <td>...</td>\n",
              "      <td>...</td>\n",
              "      <td>...</td>\n",
              "      <td>...</td>\n",
              "    </tr>\n",
              "    <tr>\n",
              "      <th>95990</th>\n",
              "      <td>www[.]gamefaqs[.]com/computer/doswin/data/9263...</td>\n",
              "      <td>49</td>\n",
              "      <td>False</td>\n",
              "      <td>0</td>\n",
              "      <td>0</td>\n",
              "    </tr>\n",
              "    <tr>\n",
              "      <th>95991</th>\n",
              "      <td>www[.]gamespot[.]com/condemned-criminal-origin...</td>\n",
              "      <td>61</td>\n",
              "      <td>False</td>\n",
              "      <td>0</td>\n",
              "      <td>0</td>\n",
              "    </tr>\n",
              "    <tr>\n",
              "      <th>95992</th>\n",
              "      <td>xbox360[.]gamespy[.]com/xbox-360/condemned-2-b...</td>\n",
              "      <td>51</td>\n",
              "      <td>False</td>\n",
              "      <td>0</td>\n",
              "      <td>0</td>\n",
              "    </tr>\n",
              "    <tr>\n",
              "      <th>95993</th>\n",
              "      <td>xbox360[.]ign[.]com/objects/903/903765[.]html</td>\n",
              "      <td>39</td>\n",
              "      <td>False</td>\n",
              "      <td>0</td>\n",
              "      <td>0</td>\n",
              "    </tr>\n",
              "    <tr>\n",
              "      <th>95994</th>\n",
              "      <td>games[.]teamxbox[.]com/xbox-360/1737/Condemned...</td>\n",
              "      <td>55</td>\n",
              "      <td>False</td>\n",
              "      <td>0</td>\n",
              "      <td>0</td>\n",
              "    </tr>\n",
              "  </tbody>\n",
              "</table>\n",
              "<p>95995 rows × 5 columns</p>\n",
              "</div>\n",
              "      <button class=\"colab-df-convert\" onclick=\"convertToInteractive('df-073dbd00-63c1-4282-9527-f65314063d23')\"\n",
              "              title=\"Convert this dataframe to an interactive table.\"\n",
              "              style=\"display:none;\">\n",
              "        \n",
              "  <svg xmlns=\"http://www.w3.org/2000/svg\" height=\"24px\"viewBox=\"0 0 24 24\"\n",
              "       width=\"24px\">\n",
              "    <path d=\"M0 0h24v24H0V0z\" fill=\"none\"/>\n",
              "    <path d=\"M18.56 5.44l.94 2.06.94-2.06 2.06-.94-2.06-.94-.94-2.06-.94 2.06-2.06.94zm-11 1L8.5 8.5l.94-2.06 2.06-.94-2.06-.94L8.5 2.5l-.94 2.06-2.06.94zm10 10l.94 2.06.94-2.06 2.06-.94-2.06-.94-.94-2.06-.94 2.06-2.06.94z\"/><path d=\"M17.41 7.96l-1.37-1.37c-.4-.4-.92-.59-1.43-.59-.52 0-1.04.2-1.43.59L10.3 9.45l-7.72 7.72c-.78.78-.78 2.05 0 2.83L4 21.41c.39.39.9.59 1.41.59.51 0 1.02-.2 1.41-.59l7.78-7.78 2.81-2.81c.8-.78.8-2.07 0-2.86zM5.41 20L4 18.59l7.72-7.72 1.47 1.35L5.41 20z\"/>\n",
              "  </svg>\n",
              "      </button>\n",
              "      \n",
              "  <style>\n",
              "    .colab-df-container {\n",
              "      display:flex;\n",
              "      flex-wrap:wrap;\n",
              "      gap: 12px;\n",
              "    }\n",
              "\n",
              "    .colab-df-convert {\n",
              "      background-color: #E8F0FE;\n",
              "      border: none;\n",
              "      border-radius: 50%;\n",
              "      cursor: pointer;\n",
              "      display: none;\n",
              "      fill: #1967D2;\n",
              "      height: 32px;\n",
              "      padding: 0 0 0 0;\n",
              "      width: 32px;\n",
              "    }\n",
              "\n",
              "    .colab-df-convert:hover {\n",
              "      background-color: #E2EBFA;\n",
              "      box-shadow: 0px 1px 2px rgba(60, 64, 67, 0.3), 0px 1px 3px 1px rgba(60, 64, 67, 0.15);\n",
              "      fill: #174EA6;\n",
              "    }\n",
              "\n",
              "    [theme=dark] .colab-df-convert {\n",
              "      background-color: #3B4455;\n",
              "      fill: #D2E3FC;\n",
              "    }\n",
              "\n",
              "    [theme=dark] .colab-df-convert:hover {\n",
              "      background-color: #434B5C;\n",
              "      box-shadow: 0px 1px 3px 1px rgba(0, 0, 0, 0.15);\n",
              "      filter: drop-shadow(0px 1px 2px rgba(0, 0, 0, 0.3));\n",
              "      fill: #FFFFFF;\n",
              "    }\n",
              "  </style>\n",
              "\n",
              "      <script>\n",
              "        const buttonEl =\n",
              "          document.querySelector('#df-073dbd00-63c1-4282-9527-f65314063d23 button.colab-df-convert');\n",
              "        buttonEl.style.display =\n",
              "          google.colab.kernel.accessAllowed ? 'block' : 'none';\n",
              "\n",
              "        async function convertToInteractive(key) {\n",
              "          const element = document.querySelector('#df-073dbd00-63c1-4282-9527-f65314063d23');\n",
              "          const dataTable =\n",
              "            await google.colab.kernel.invokeFunction('convertToInteractive',\n",
              "                                                     [key], {});\n",
              "          if (!dataTable) return;\n",
              "\n",
              "          const docLinkHtml = 'Like what you see? Visit the ' +\n",
              "            '<a target=\"_blank\" href=https://colab.research.google.com/notebooks/data_table.ipynb>data table notebook</a>'\n",
              "            + ' to learn more about interactive tables.';\n",
              "          element.innerHTML = '';\n",
              "          dataTable['output_type'] = 'display_data';\n",
              "          await google.colab.output.renderOutput(dataTable, element);\n",
              "          const docLink = document.createElement('div');\n",
              "          docLink.innerHTML = docLinkHtml;\n",
              "          element.appendChild(docLink);\n",
              "        }\n",
              "      </script>\n",
              "    </div>\n",
              "  </div>\n",
              "  "
            ],
            "text/plain": [
              "                                                     url  url_character_count  \\\n",
              "0      nobell[.]it/70ffb52d079109dca5664cce6f31737378...                  225   \n",
              "1      www[.]dghjdgf[.]com/paypal[.]co[.]uk/cycgi-bin...                   81   \n",
              "2      serviciosbys[.]com/paypal[.]cgi[.]bin[.]get-in...                  177   \n",
              "3      mail[.]printakid[.]com/www[.]online[.]american...                   60   \n",
              "4      thewhiskeydregs[.]com/wp-content/themes/widesc...                  116   \n",
              "...                                                  ...                  ...   \n",
              "95990  www[.]gamefaqs[.]com/computer/doswin/data/9263...                   49   \n",
              "95991  www[.]gamespot[.]com/condemned-criminal-origin...                   61   \n",
              "95992  xbox360[.]gamespy[.]com/xbox-360/condemned-2-b...                   51   \n",
              "95993      xbox360[.]ign[.]com/objects/903/903765[.]html                   39   \n",
              "95994  games[.]teamxbox[.]com/xbox-360/1737/Condemned...                   55   \n",
              "\n",
              "       phishing_attempt  biz_character_count  com_count_in_url  \n",
              "0                  True                    0                 0  \n",
              "1                  True                    0                 0  \n",
              "2                  True                    0                 0  \n",
              "3                  True                    0                 0  \n",
              "4                  True                    0                 0  \n",
              "...                 ...                  ...               ...  \n",
              "95990             False                    0                 0  \n",
              "95991             False                    0                 0  \n",
              "95992             False                    0                 0  \n",
              "95993             False                    0                 0  \n",
              "95994             False                    0                 0  \n",
              "\n",
              "[95995 rows x 5 columns]"
            ]
          },
          "execution_count": 310,
          "metadata": {},
          "output_type": "execute_result"
        }
      ],
      "source": [
        "data.head(-10)"
      ]
    },
    {
      "cell_type": "markdown",
      "metadata": {
        "id": "iA7migyyuKXR"
      },
      "source": [
        "It's important to note that all of the URLs in this dataset have been defanged -- in other words, every `.` has been replaced with `[.]` so that the addresses cannot resolve to a malicious destination. When security data scientists work with executable phishes, we always defang in order to protect ourselves and the companies we work for. The variable `url_character_count` is the length of each malicious URL pre-defanging.\n",
        "\n",
        "You may have also noticed that the full URLs are not always visible when the data is displayed in a table format, like in the above `data.head()` cell. If you're interesting in looking at a full URL, you can do so using the function `iloc`.\n",
        "\n",
        "The format looks like this:\n",
        "`data[<insert variable name>].iloc[<insert row index number>]`"
      ]
    },
    {
      "cell_type": "markdown",
      "metadata": {
        "id": "UJ6X242HuT_1"
      },
      "source": [
        "Python is a zero-indexed language, meaning that counts start at 0 instead of 1, so the two cells above translate like this:\n",
        "\n",
        "`data['url'].iloc[0]` --> return the URL of the first row in the data \n",
        "\n",
        "`data['url'].iloc[14]` --> return the URL of the fifteenth row in the data "
      ]
    },
    {
      "cell_type": "code",
      "execution_count": null,
      "metadata": {
        "colab": {
          "base_uri": "https://localhost:8080/"
        },
        "id": "6BBh913atiaD",
        "outputId": "5f4ea41e-3894-447f-839c-ac38f7a741ff"
      },
      "outputs": [
        {
          "data": {
            "application/vnd.google.colaboratory.intrinsic+json": {
              "type": "string"
            },
            "text/plain": [
              "'nobell[.]it/70ffb52d079109dca5664cce6f317373782/login[.]SkyPe[.]com/en/cgi-bin/verification/login/70ffb52d079109dca5664cce6f317373/index[.]php?cmd=_profile-ach&outdated_page_tmpl=p/gen/failed-to-load&nav=0[.]5[.]1&login_access=1322408526'"
            ]
          },
          "execution_count": 311,
          "metadata": {},
          "output_type": "execute_result"
        }
      ],
      "source": [
        "data['url'].iloc[0]"
      ]
    },
    {
      "cell_type": "code",
      "execution_count": null,
      "metadata": {
        "id": "_YgTx_Q4tiVM"
      },
      "outputs": [],
      "source": [
        ""
      ]
    },
    {
      "cell_type": "markdown",
      "metadata": {
        "id": "-sbshGy6udJc"
      },
      "source": [
        "Now it's your turn to look at the data! Try answering some of the following guiding questions and write some of your own.\n",
        "\n",
        "- How large is the dataset?\n",
        "- How many phishing examples are in the data? How many benign?\n",
        "- What is the range in `url_character_count` for this dataset?\n",
        "- Do you notice any similarities between the phish examples?"
      ]
    },
    {
      "cell_type": "code",
      "execution_count": null,
      "metadata": {
        "id": "qMyuurTjtiRh"
      },
      "outputs": [],
      "source": [
        ""
      ]
    },
    {
      "cell_type": "code",
      "execution_count": null,
      "metadata": {
        "id": "_KlPKjboucHk"
      },
      "outputs": [],
      "source": [
        ""
      ]
    },
    {
      "cell_type": "code",
      "execution_count": null,
      "metadata": {
        "id": "gnMyGAU-ucF1"
      },
      "outputs": [],
      "source": [
        ""
      ]
    },
    {
      "cell_type": "code",
      "execution_count": null,
      "metadata": {
        "id": "5vdi0S2PucCg"
      },
      "outputs": [],
      "source": [
        ""
      ]
    },
    {
      "cell_type": "markdown",
      "metadata": {
        "id": "0gc6dqUGumK3"
      },
      "source": [
        "## 3. Identifying new features"
      ]
    },
    {
      "cell_type": "markdown",
      "metadata": {
        "id": "upkVC6Wsuqrn"
      },
      "source": [
        "From your research of phishing and your exploration of the data, you and your team should generate ideas for characteristics of phishing that can be derived from the dataset. For example, you may hypothesize that malicious URLs are long and contain a high number of numeric characters. Both of these characteristics can be derived from the `url` column in the given dataset, transformed into a column, and used as an input to the Random Forest Classifier. The consequent performance of the model indicates the quality of the derived features. This process is known as feature engineering."
      ]
    },
    {
      "cell_type": "markdown",
      "metadata": {
        "id": "oPOlDP8duvFR"
      },
      "source": [
        "Below is an example of how to add new columns to the dataframe."
      ]
    },
    {
      "cell_type": "code",
      "execution_count": null,
      "metadata": {
        "id": "yJymFd8jub52"
      },
      "outputs": [],
      "source": [
        "data['numeric_character_count'] = data['url'].apply(lambda x: sum(c.isdigit() for c in x))\n",
        "\n",
        "#2 biz\n",
        "data['biz_character_count'] = data['url'].apply(lambda x: int('biz' in x))\n",
        "#3 .com\n",
        "data['com_count_in_url'] = data['url'].apply(lambda x: int('com'  in x))\n",
        "\n",
        "data['slash_count_in_url'] = data['url'].apply(lambda x: int('/'  in x))\n",
        "\n",
        "data['www_count_in_url'] = data['url'].apply(lambda x: int('www'  in x))\n",
        "\n",
        "data['php_count_in_url'] = data['url'].apply(lambda x: int('php'  in x))\n",
        "\n",
        "data['paypal_count_in_url'] = data['url'].apply(lambda x: int('paypal'  in x))\n",
        "\n",
        "data['wp_count_in_url'] = data['url'].apply(lambda x: int('wp'  in x))\n",
        "\n",
        "data['-_count_in_url'] = data['url'].apply(lambda x: int('-'  in x))\n",
        "\n",
        "data['identification_count_in_url'] = data['url'].apply(lambda x: int('identification'  in x))\n",
        "\n",
        "data['net_count_in_url'] = data['url'].apply(lambda x: int('net'  in x))"
      ]
    },
    {
      "cell_type": "code",
      "execution_count": null,
      "metadata": {
        "id": "h7n_cBAluppn"
      },
      "outputs": [],
      "source": [
        "str1 = 'Apple'\n",
        "\n",
        "str1['p'] = str1['str1'].apply(lambda x: int('a' in x))"
      ]
    },
    {
      "cell_type": "markdown",
      "metadata": {
        "id": "GyCXlZ4svv0H"
      },
      "source": [
        "Your turn! Add any columns to the dataframe that you and your team have hypothesized are characteristics of malicious URLs."
      ]
    },
    {
      "cell_type": "code",
      "execution_count": null,
      "metadata": {
        "id": "sSajytOfupbj"
      },
      "outputs": [],
      "source": [
        ""
      ]
    },
    {
      "cell_type": "code",
      "execution_count": null,
      "metadata": {
        "id": "5_axsbfPukfV"
      },
      "outputs": [],
      "source": [
        ""
      ]
    },
    {
      "cell_type": "code",
      "execution_count": null,
      "metadata": {
        "id": "8Y0QqM7FthfA"
      },
      "outputs": [],
      "source": [
        ""
      ]
    },
    {
      "cell_type": "code",
      "execution_count": null,
      "metadata": {
        "id": "8Cx2NPOMv3D8"
      },
      "outputs": [],
      "source": [
        ""
      ]
    },
    {
      "cell_type": "code",
      "execution_count": null,
      "metadata": {
        "id": "Koz10bbSv25e"
      },
      "outputs": [],
      "source": [
        ""
      ]
    },
    {
      "cell_type": "markdown",
      "metadata": {
        "id": "fZ9ED55yv4gq"
      },
      "source": [
        "## 4. Building the model"
      ]
    },
    {
      "cell_type": "markdown",
      "metadata": {
        "id": "NYF02jR_v9Ty"
      },
      "source": [
        "Before we build the model, we must divide the data into a training set and a testing set. Training a model simply means giving a subset of the data (training set) to a machine learning algorithm and allowing it to extrapolate a relationship between the features of the dataset and its labels."
      ]
    },
    {
      "cell_type": "markdown",
      "metadata": {
        "id": "1CktMTcIv_cU"
      },
      "source": [
        "The inputed dataframe to the machine learning algorithm (`x`) should only contain the features of interest, not the the very long `url` strings. Only numeric abstractions of the url can be used as an input. Therefore, prior to dividing the data into training and testing, we must first save the `url` field as an independent dataframe that we can refer to later, the data without any long string fields or labels as `x`, and the labels alone as `y`. "
      ]
    },
    {
      "cell_type": "code",
      "execution_count": null,
      "metadata": {
        "id": "4_gSKNHkv6iO"
      },
      "outputs": [],
      "source": [
        "urls = data['url']\n",
        "x = data.drop(['url','phishing_attempt'], axis=1)\n",
        "y = data['phishing_attempt']"
      ]
    },
    {
      "cell_type": "code",
      "execution_count": null,
      "metadata": {
        "colab": {
          "base_uri": "https://localhost:8080/"
        },
        "id": "-OuSKU3twCQD",
        "outputId": "4fd1e169-3fdf-4b6d-fce4-738dae39e59d"
      },
      "outputs": [
        {
          "output_type": "execute_result",
          "data": {
            "text/plain": [
              "0    nobell[.]it/70ffb52d079109dca5664cce6f31737378...\n",
              "1    www[.]dghjdgf[.]com/paypal[.]co[.]uk/cycgi-bin...\n",
              "2    serviciosbys[.]com/paypal[.]cgi[.]bin[.]get-in...\n",
              "3    mail[.]printakid[.]com/www[.]online[.]american...\n",
              "4    thewhiskeydregs[.]com/wp-content/themes/widesc...\n",
              "Name: url, dtype: object"
            ]
          },
          "metadata": {},
          "execution_count": 17
        }
      ],
      "source": [
        "urls.head()"
      ]
    },
    {
      "cell_type": "code",
      "execution_count": null,
      "metadata": {
        "colab": {
          "base_uri": "https://localhost:8080/",
          "height": 288
        },
        "id": "bqJ0e7ElwITw",
        "outputId": "869bfea0-a175-40e5-911c-adbc71412c63"
      },
      "outputs": [
        {
          "output_type": "execute_result",
          "data": {
            "text/plain": [
              "   url_character_count  biz_character_count  com_count_in_url  \\\n",
              "0                  225                    0                 1   \n",
              "1                   81                    0                 1   \n",
              "2                  177                    0                 1   \n",
              "3                   60                    0                 1   \n",
              "4                  116                    0                 1   \n",
              "\n",
              "   numeric_character_count  slash_count_in_url  www_count_in_url  \\\n",
              "0                       58                   1                 0   \n",
              "1                        1                   1                 1   \n",
              "2                       47                   1                 0   \n",
              "3                        0                   1                 1   \n",
              "4                       21                   1                 0   \n",
              "\n",
              "   php_count_in_url  paypal_count_in_url  wp_count_in_url  -_count_in_url  \\\n",
              "0                 1                    0                0               1   \n",
              "1                 1                    1                0               1   \n",
              "2                 0                    1                0               1   \n",
              "3                 0                    0                0               0   \n",
              "4                 0                    0                1               1   \n",
              "\n",
              "   identification_count_in_url  net_count_in_url  \n",
              "0                            0                 0  \n",
              "1                            0                 0  \n",
              "2                            0                 0  \n",
              "3                            0                 0  \n",
              "4                            0                 0  "
            ],
            "text/html": [
              "\n",
              "  <div id=\"df-41298010-912c-45ee-ae87-ed922e0b22a1\">\n",
              "    <div class=\"colab-df-container\">\n",
              "      <div>\n",
              "<style scoped>\n",
              "    .dataframe tbody tr th:only-of-type {\n",
              "        vertical-align: middle;\n",
              "    }\n",
              "\n",
              "    .dataframe tbody tr th {\n",
              "        vertical-align: top;\n",
              "    }\n",
              "\n",
              "    .dataframe thead th {\n",
              "        text-align: right;\n",
              "    }\n",
              "</style>\n",
              "<table border=\"1\" class=\"dataframe\">\n",
              "  <thead>\n",
              "    <tr style=\"text-align: right;\">\n",
              "      <th></th>\n",
              "      <th>url_character_count</th>\n",
              "      <th>biz_character_count</th>\n",
              "      <th>com_count_in_url</th>\n",
              "      <th>numeric_character_count</th>\n",
              "      <th>slash_count_in_url</th>\n",
              "      <th>www_count_in_url</th>\n",
              "      <th>php_count_in_url</th>\n",
              "      <th>paypal_count_in_url</th>\n",
              "      <th>wp_count_in_url</th>\n",
              "      <th>-_count_in_url</th>\n",
              "      <th>identification_count_in_url</th>\n",
              "      <th>net_count_in_url</th>\n",
              "    </tr>\n",
              "  </thead>\n",
              "  <tbody>\n",
              "    <tr>\n",
              "      <th>0</th>\n",
              "      <td>225</td>\n",
              "      <td>0</td>\n",
              "      <td>1</td>\n",
              "      <td>58</td>\n",
              "      <td>1</td>\n",
              "      <td>0</td>\n",
              "      <td>1</td>\n",
              "      <td>0</td>\n",
              "      <td>0</td>\n",
              "      <td>1</td>\n",
              "      <td>0</td>\n",
              "      <td>0</td>\n",
              "    </tr>\n",
              "    <tr>\n",
              "      <th>1</th>\n",
              "      <td>81</td>\n",
              "      <td>0</td>\n",
              "      <td>1</td>\n",
              "      <td>1</td>\n",
              "      <td>1</td>\n",
              "      <td>1</td>\n",
              "      <td>1</td>\n",
              "      <td>1</td>\n",
              "      <td>0</td>\n",
              "      <td>1</td>\n",
              "      <td>0</td>\n",
              "      <td>0</td>\n",
              "    </tr>\n",
              "    <tr>\n",
              "      <th>2</th>\n",
              "      <td>177</td>\n",
              "      <td>0</td>\n",
              "      <td>1</td>\n",
              "      <td>47</td>\n",
              "      <td>1</td>\n",
              "      <td>0</td>\n",
              "      <td>0</td>\n",
              "      <td>1</td>\n",
              "      <td>0</td>\n",
              "      <td>1</td>\n",
              "      <td>0</td>\n",
              "      <td>0</td>\n",
              "    </tr>\n",
              "    <tr>\n",
              "      <th>3</th>\n",
              "      <td>60</td>\n",
              "      <td>0</td>\n",
              "      <td>1</td>\n",
              "      <td>0</td>\n",
              "      <td>1</td>\n",
              "      <td>1</td>\n",
              "      <td>0</td>\n",
              "      <td>0</td>\n",
              "      <td>0</td>\n",
              "      <td>0</td>\n",
              "      <td>0</td>\n",
              "      <td>0</td>\n",
              "    </tr>\n",
              "    <tr>\n",
              "      <th>4</th>\n",
              "      <td>116</td>\n",
              "      <td>0</td>\n",
              "      <td>1</td>\n",
              "      <td>21</td>\n",
              "      <td>1</td>\n",
              "      <td>0</td>\n",
              "      <td>0</td>\n",
              "      <td>0</td>\n",
              "      <td>1</td>\n",
              "      <td>1</td>\n",
              "      <td>0</td>\n",
              "      <td>0</td>\n",
              "    </tr>\n",
              "  </tbody>\n",
              "</table>\n",
              "</div>\n",
              "      <button class=\"colab-df-convert\" onclick=\"convertToInteractive('df-41298010-912c-45ee-ae87-ed922e0b22a1')\"\n",
              "              title=\"Convert this dataframe to an interactive table.\"\n",
              "              style=\"display:none;\">\n",
              "        \n",
              "  <svg xmlns=\"http://www.w3.org/2000/svg\" height=\"24px\"viewBox=\"0 0 24 24\"\n",
              "       width=\"24px\">\n",
              "    <path d=\"M0 0h24v24H0V0z\" fill=\"none\"/>\n",
              "    <path d=\"M18.56 5.44l.94 2.06.94-2.06 2.06-.94-2.06-.94-.94-2.06-.94 2.06-2.06.94zm-11 1L8.5 8.5l.94-2.06 2.06-.94-2.06-.94L8.5 2.5l-.94 2.06-2.06.94zm10 10l.94 2.06.94-2.06 2.06-.94-2.06-.94-.94-2.06-.94 2.06-2.06.94z\"/><path d=\"M17.41 7.96l-1.37-1.37c-.4-.4-.92-.59-1.43-.59-.52 0-1.04.2-1.43.59L10.3 9.45l-7.72 7.72c-.78.78-.78 2.05 0 2.83L4 21.41c.39.39.9.59 1.41.59.51 0 1.02-.2 1.41-.59l7.78-7.78 2.81-2.81c.8-.78.8-2.07 0-2.86zM5.41 20L4 18.59l7.72-7.72 1.47 1.35L5.41 20z\"/>\n",
              "  </svg>\n",
              "      </button>\n",
              "      \n",
              "  <style>\n",
              "    .colab-df-container {\n",
              "      display:flex;\n",
              "      flex-wrap:wrap;\n",
              "      gap: 12px;\n",
              "    }\n",
              "\n",
              "    .colab-df-convert {\n",
              "      background-color: #E8F0FE;\n",
              "      border: none;\n",
              "      border-radius: 50%;\n",
              "      cursor: pointer;\n",
              "      display: none;\n",
              "      fill: #1967D2;\n",
              "      height: 32px;\n",
              "      padding: 0 0 0 0;\n",
              "      width: 32px;\n",
              "    }\n",
              "\n",
              "    .colab-df-convert:hover {\n",
              "      background-color: #E2EBFA;\n",
              "      box-shadow: 0px 1px 2px rgba(60, 64, 67, 0.3), 0px 1px 3px 1px rgba(60, 64, 67, 0.15);\n",
              "      fill: #174EA6;\n",
              "    }\n",
              "\n",
              "    [theme=dark] .colab-df-convert {\n",
              "      background-color: #3B4455;\n",
              "      fill: #D2E3FC;\n",
              "    }\n",
              "\n",
              "    [theme=dark] .colab-df-convert:hover {\n",
              "      background-color: #434B5C;\n",
              "      box-shadow: 0px 1px 3px 1px rgba(0, 0, 0, 0.15);\n",
              "      filter: drop-shadow(0px 1px 2px rgba(0, 0, 0, 0.3));\n",
              "      fill: #FFFFFF;\n",
              "    }\n",
              "  </style>\n",
              "\n",
              "      <script>\n",
              "        const buttonEl =\n",
              "          document.querySelector('#df-41298010-912c-45ee-ae87-ed922e0b22a1 button.colab-df-convert');\n",
              "        buttonEl.style.display =\n",
              "          google.colab.kernel.accessAllowed ? 'block' : 'none';\n",
              "\n",
              "        async function convertToInteractive(key) {\n",
              "          const element = document.querySelector('#df-41298010-912c-45ee-ae87-ed922e0b22a1');\n",
              "          const dataTable =\n",
              "            await google.colab.kernel.invokeFunction('convertToInteractive',\n",
              "                                                     [key], {});\n",
              "          if (!dataTable) return;\n",
              "\n",
              "          const docLinkHtml = 'Like what you see? Visit the ' +\n",
              "            '<a target=\"_blank\" href=https://colab.research.google.com/notebooks/data_table.ipynb>data table notebook</a>'\n",
              "            + ' to learn more about interactive tables.';\n",
              "          element.innerHTML = '';\n",
              "          dataTable['output_type'] = 'display_data';\n",
              "          await google.colab.output.renderOutput(dataTable, element);\n",
              "          const docLink = document.createElement('div');\n",
              "          docLink.innerHTML = docLinkHtml;\n",
              "          element.appendChild(docLink);\n",
              "        }\n",
              "      </script>\n",
              "    </div>\n",
              "  </div>\n",
              "  "
            ]
          },
          "metadata": {},
          "execution_count": 18
        }
      ],
      "source": [
        "x.head()"
      ]
    },
    {
      "cell_type": "code",
      "execution_count": null,
      "metadata": {
        "colab": {
          "base_uri": "https://localhost:8080/"
        },
        "id": "NixMFsthwIPO",
        "outputId": "d9246400-ec90-4805-df27-062a20caf91e"
      },
      "outputs": [
        {
          "output_type": "execute_result",
          "data": {
            "text/plain": [
              "0    True\n",
              "1    True\n",
              "2    True\n",
              "3    True\n",
              "4    True\n",
              "Name: phishing_attempt, dtype: bool"
            ]
          },
          "metadata": {},
          "execution_count": 19
        }
      ],
      "source": [
        "y.head()"
      ]
    },
    {
      "cell_type": "markdown",
      "metadata": {
        "id": "APy-Y8n_wOJr"
      },
      "source": [
        "Once the necessary transformations have taken place, we can divide the feature dataframe `x` and the labels dataframe `y` into training and testing sets. The data is split 70% into training and 30% into testing because it's better to train a model on a greater proportion of the data but if that proportion is too high, we risk overtraining the model. Overtraining a model would mean that the ML algorithm would perform exceptionally well on inputs that most closely resembled its training set, and poorly on testing sets that varied from the training material. These proportions vary depending on the data at hand, but for our simple use case, the 70:30 division should suffice.\n",
        "\n",
        "Without a specified seed (`random_state`), the data will be randomly divided every single time `train_test_split` is run. If you and your team would like to have your data consistently split the same way on each of your devices, select the same value for the `random_state` parameter. "
      ]
    },
    {
      "cell_type": "code",
      "execution_count": null,
      "metadata": {
        "id": "vPqvGN4MwIH9"
      },
      "outputs": [],
      "source": [
        "x_train, x_test, y_train, y_test = train_test_split(x, y, test_size=0.3, random_state=42)"
      ]
    },
    {
      "cell_type": "code",
      "execution_count": null,
      "metadata": {
        "colab": {
          "base_uri": "https://localhost:8080/",
          "height": 288
        },
        "id": "Fk67OzndwH52",
        "outputId": "bfa39a0a-9878-4f0e-88bd-299a72835873"
      },
      "outputs": [
        {
          "output_type": "execute_result",
          "data": {
            "text/plain": [
              "       url_character_count  biz_character_count  com_count_in_url  \\\n",
              "75340                   39                    0                 0   \n",
              "71209                   18                    0                 0   \n",
              "21472                   25                    0                 0   \n",
              "6824                    48                    0                 0   \n",
              "62942                   27                    0                 0   \n",
              "\n",
              "       numeric_character_count  slash_count_in_url  www_count_in_url  \\\n",
              "75340                        0                   1                 0   \n",
              "71209                        0                   1                 0   \n",
              "21472                        5                   1                 0   \n",
              "6824                         0                   1                 0   \n",
              "62942                        0                   1                 0   \n",
              "\n",
              "       php_count_in_url  paypal_count_in_url  wp_count_in_url  -_count_in_url  \\\n",
              "75340                 0                    0                0               0   \n",
              "71209                 0                    0                0               0   \n",
              "21472                 0                    0                0               0   \n",
              "6824                  0                    0                1               1   \n",
              "62942                 0                    0                0               0   \n",
              "\n",
              "       identification_count_in_url  net_count_in_url  \n",
              "75340                            0                 0  \n",
              "71209                            0                 0  \n",
              "21472                            0                 0  \n",
              "6824                             0                 0  \n",
              "62942                            0                 0  "
            ],
            "text/html": [
              "\n",
              "  <div id=\"df-04fc5493-025a-4ecd-88de-98d9cbeef6c0\">\n",
              "    <div class=\"colab-df-container\">\n",
              "      <div>\n",
              "<style scoped>\n",
              "    .dataframe tbody tr th:only-of-type {\n",
              "        vertical-align: middle;\n",
              "    }\n",
              "\n",
              "    .dataframe tbody tr th {\n",
              "        vertical-align: top;\n",
              "    }\n",
              "\n",
              "    .dataframe thead th {\n",
              "        text-align: right;\n",
              "    }\n",
              "</style>\n",
              "<table border=\"1\" class=\"dataframe\">\n",
              "  <thead>\n",
              "    <tr style=\"text-align: right;\">\n",
              "      <th></th>\n",
              "      <th>url_character_count</th>\n",
              "      <th>biz_character_count</th>\n",
              "      <th>com_count_in_url</th>\n",
              "      <th>numeric_character_count</th>\n",
              "      <th>slash_count_in_url</th>\n",
              "      <th>www_count_in_url</th>\n",
              "      <th>php_count_in_url</th>\n",
              "      <th>paypal_count_in_url</th>\n",
              "      <th>wp_count_in_url</th>\n",
              "      <th>-_count_in_url</th>\n",
              "      <th>identification_count_in_url</th>\n",
              "      <th>net_count_in_url</th>\n",
              "    </tr>\n",
              "  </thead>\n",
              "  <tbody>\n",
              "    <tr>\n",
              "      <th>75340</th>\n",
              "      <td>39</td>\n",
              "      <td>0</td>\n",
              "      <td>0</td>\n",
              "      <td>0</td>\n",
              "      <td>1</td>\n",
              "      <td>0</td>\n",
              "      <td>0</td>\n",
              "      <td>0</td>\n",
              "      <td>0</td>\n",
              "      <td>0</td>\n",
              "      <td>0</td>\n",
              "      <td>0</td>\n",
              "    </tr>\n",
              "    <tr>\n",
              "      <th>71209</th>\n",
              "      <td>18</td>\n",
              "      <td>0</td>\n",
              "      <td>0</td>\n",
              "      <td>0</td>\n",
              "      <td>1</td>\n",
              "      <td>0</td>\n",
              "      <td>0</td>\n",
              "      <td>0</td>\n",
              "      <td>0</td>\n",
              "      <td>0</td>\n",
              "      <td>0</td>\n",
              "      <td>0</td>\n",
              "    </tr>\n",
              "    <tr>\n",
              "      <th>21472</th>\n",
              "      <td>25</td>\n",
              "      <td>0</td>\n",
              "      <td>0</td>\n",
              "      <td>5</td>\n",
              "      <td>1</td>\n",
              "      <td>0</td>\n",
              "      <td>0</td>\n",
              "      <td>0</td>\n",
              "      <td>0</td>\n",
              "      <td>0</td>\n",
              "      <td>0</td>\n",
              "      <td>0</td>\n",
              "    </tr>\n",
              "    <tr>\n",
              "      <th>6824</th>\n",
              "      <td>48</td>\n",
              "      <td>0</td>\n",
              "      <td>0</td>\n",
              "      <td>0</td>\n",
              "      <td>1</td>\n",
              "      <td>0</td>\n",
              "      <td>0</td>\n",
              "      <td>0</td>\n",
              "      <td>1</td>\n",
              "      <td>1</td>\n",
              "      <td>0</td>\n",
              "      <td>0</td>\n",
              "    </tr>\n",
              "    <tr>\n",
              "      <th>62942</th>\n",
              "      <td>27</td>\n",
              "      <td>0</td>\n",
              "      <td>0</td>\n",
              "      <td>0</td>\n",
              "      <td>1</td>\n",
              "      <td>0</td>\n",
              "      <td>0</td>\n",
              "      <td>0</td>\n",
              "      <td>0</td>\n",
              "      <td>0</td>\n",
              "      <td>0</td>\n",
              "      <td>0</td>\n",
              "    </tr>\n",
              "  </tbody>\n",
              "</table>\n",
              "</div>\n",
              "      <button class=\"colab-df-convert\" onclick=\"convertToInteractive('df-04fc5493-025a-4ecd-88de-98d9cbeef6c0')\"\n",
              "              title=\"Convert this dataframe to an interactive table.\"\n",
              "              style=\"display:none;\">\n",
              "        \n",
              "  <svg xmlns=\"http://www.w3.org/2000/svg\" height=\"24px\"viewBox=\"0 0 24 24\"\n",
              "       width=\"24px\">\n",
              "    <path d=\"M0 0h24v24H0V0z\" fill=\"none\"/>\n",
              "    <path d=\"M18.56 5.44l.94 2.06.94-2.06 2.06-.94-2.06-.94-.94-2.06-.94 2.06-2.06.94zm-11 1L8.5 8.5l.94-2.06 2.06-.94-2.06-.94L8.5 2.5l-.94 2.06-2.06.94zm10 10l.94 2.06.94-2.06 2.06-.94-2.06-.94-.94-2.06-.94 2.06-2.06.94z\"/><path d=\"M17.41 7.96l-1.37-1.37c-.4-.4-.92-.59-1.43-.59-.52 0-1.04.2-1.43.59L10.3 9.45l-7.72 7.72c-.78.78-.78 2.05 0 2.83L4 21.41c.39.39.9.59 1.41.59.51 0 1.02-.2 1.41-.59l7.78-7.78 2.81-2.81c.8-.78.8-2.07 0-2.86zM5.41 20L4 18.59l7.72-7.72 1.47 1.35L5.41 20z\"/>\n",
              "  </svg>\n",
              "      </button>\n",
              "      \n",
              "  <style>\n",
              "    .colab-df-container {\n",
              "      display:flex;\n",
              "      flex-wrap:wrap;\n",
              "      gap: 12px;\n",
              "    }\n",
              "\n",
              "    .colab-df-convert {\n",
              "      background-color: #E8F0FE;\n",
              "      border: none;\n",
              "      border-radius: 50%;\n",
              "      cursor: pointer;\n",
              "      display: none;\n",
              "      fill: #1967D2;\n",
              "      height: 32px;\n",
              "      padding: 0 0 0 0;\n",
              "      width: 32px;\n",
              "    }\n",
              "\n",
              "    .colab-df-convert:hover {\n",
              "      background-color: #E2EBFA;\n",
              "      box-shadow: 0px 1px 2px rgba(60, 64, 67, 0.3), 0px 1px 3px 1px rgba(60, 64, 67, 0.15);\n",
              "      fill: #174EA6;\n",
              "    }\n",
              "\n",
              "    [theme=dark] .colab-df-convert {\n",
              "      background-color: #3B4455;\n",
              "      fill: #D2E3FC;\n",
              "    }\n",
              "\n",
              "    [theme=dark] .colab-df-convert:hover {\n",
              "      background-color: #434B5C;\n",
              "      box-shadow: 0px 1px 3px 1px rgba(0, 0, 0, 0.15);\n",
              "      filter: drop-shadow(0px 1px 2px rgba(0, 0, 0, 0.3));\n",
              "      fill: #FFFFFF;\n",
              "    }\n",
              "  </style>\n",
              "\n",
              "      <script>\n",
              "        const buttonEl =\n",
              "          document.querySelector('#df-04fc5493-025a-4ecd-88de-98d9cbeef6c0 button.colab-df-convert');\n",
              "        buttonEl.style.display =\n",
              "          google.colab.kernel.accessAllowed ? 'block' : 'none';\n",
              "\n",
              "        async function convertToInteractive(key) {\n",
              "          const element = document.querySelector('#df-04fc5493-025a-4ecd-88de-98d9cbeef6c0');\n",
              "          const dataTable =\n",
              "            await google.colab.kernel.invokeFunction('convertToInteractive',\n",
              "                                                     [key], {});\n",
              "          if (!dataTable) return;\n",
              "\n",
              "          const docLinkHtml = 'Like what you see? Visit the ' +\n",
              "            '<a target=\"_blank\" href=https://colab.research.google.com/notebooks/data_table.ipynb>data table notebook</a>'\n",
              "            + ' to learn more about interactive tables.';\n",
              "          element.innerHTML = '';\n",
              "          dataTable['output_type'] = 'display_data';\n",
              "          await google.colab.output.renderOutput(dataTable, element);\n",
              "          const docLink = document.createElement('div');\n",
              "          docLink.innerHTML = docLinkHtml;\n",
              "          element.appendChild(docLink);\n",
              "        }\n",
              "      </script>\n",
              "    </div>\n",
              "  </div>\n",
              "  "
            ]
          },
          "metadata": {},
          "execution_count": 21
        }
      ],
      "source": [
        "x_train.head()"
      ]
    },
    {
      "cell_type": "code",
      "execution_count": null,
      "metadata": {
        "colab": {
          "base_uri": "https://localhost:8080/"
        },
        "id": "5RFVzLhpwH08",
        "outputId": "89349e1e-830a-425f-e00c-a2b2d77c8ded"
      },
      "outputs": [
        {
          "output_type": "execute_result",
          "data": {
            "text/plain": [
              "75340    False\n",
              "71209    False\n",
              "21472     True\n",
              "6824      True\n",
              "62942    False\n",
              "Name: phishing_attempt, dtype: bool"
            ]
          },
          "metadata": {},
          "execution_count": 22
        }
      ],
      "source": [
        "y_train.head()"
      ]
    },
    {
      "cell_type": "markdown",
      "metadata": {
        "id": "lvx9O4T0waqJ"
      },
      "source": [
        "Now for the main event -- initializing the Random Forest classifier and training it. The `n_estimators` variable is used to indicate how many \"trees\" in the Random Forest should be initialized and available to train with. The higher the number, the longer training / testing will take and the greater the risk there is for overtraining. As you iterate on the classifier, play with the `n_estimators` value and see how that impacts the performance of your model."
      ]
    },
    {
      "cell_type": "code",
      "execution_count": null,
      "metadata": {
        "id": "aBJs-dvZwHrn"
      },
      "outputs": [],
      "source": [
        "rf_classifier = RandomForestClassifier(n_estimators = 1000)"
      ]
    },
    {
      "cell_type": "markdown",
      "metadata": {
        "id": "rJqO23qlwem1"
      },
      "source": [
        "Then fit the classifer to the training data..."
      ]
    },
    {
      "cell_type": "code",
      "execution_count": null,
      "metadata": {
        "colab": {
          "base_uri": "https://localhost:8080/"
        },
        "id": "mL5eQkTFwZbB",
        "outputId": "d3eeba51-bacd-400e-bc69-2b3e3caaaac6"
      },
      "outputs": [
        {
          "output_type": "execute_result",
          "data": {
            "text/plain": [
              "RandomForestClassifier(n_estimators=1000)"
            ]
          },
          "metadata": {},
          "execution_count": 24
        }
      ],
      "source": [
        "rf_classifier.fit(x_train, y_train)"
      ]
    },
    {
      "cell_type": "markdown",
      "metadata": {
        "id": "71__R1PMwjl-"
      },
      "source": [
        "...and then see what the classifier predicts the labels of the testing set should be!"
      ]
    },
    {
      "cell_type": "code",
      "execution_count": null,
      "metadata": {
        "id": "0SJlNQvIwZXF"
      },
      "outputs": [],
      "source": [
        "y_pred = rf_classifier.predict(x_test)"
      ]
    },
    {
      "cell_type": "code",
      "execution_count": null,
      "metadata": {
        "id": "HLN2bfajwZMP"
      },
      "outputs": [],
      "source": [
        ""
      ]
    },
    {
      "cell_type": "code",
      "execution_count": null,
      "metadata": {
        "id": "ceIlynyQwHl6"
      },
      "outputs": [],
      "source": [
        ""
      ]
    },
    {
      "cell_type": "code",
      "execution_count": null,
      "metadata": {
        "id": "GLSCffa2wN0G"
      },
      "outputs": [],
      "source": [
        ""
      ]
    },
    {
      "cell_type": "markdown",
      "metadata": {
        "id": "6iXMkRKrwnAB"
      },
      "source": [
        "## 5. Measuring performance\n",
        "\n",
        "We can then measure the accuracy of the model using functions from the `metrics` module of `sklearn`"
      ]
    },
    {
      "cell_type": "code",
      "execution_count": null,
      "metadata": {
        "colab": {
          "base_uri": "https://localhost:8080/"
        },
        "id": "E-w2KIaJwm0T",
        "outputId": "cdb706cb-f62f-41b2-9e42-49a3eed34c38"
      },
      "outputs": [
        {
          "output_type": "stream",
          "name": "stdout",
          "text": [
            "Model accuracy =  0.8605999583362266\n"
          ]
        }
      ],
      "source": [
        "print(\"Model accuracy = \", metrics.accuracy_score(y_test, y_pred))"
      ]
    },
    {
      "cell_type": "markdown",
      "metadata": {
        "id": "-4RLd5y5wz_B"
      },
      "source": [
        "An accuracy score of `0.7824803833067148` means that approximately 78% of the time the classifier will correctly label a malicious URL as a phishing attempt."
      ]
    },
    {
      "cell_type": "code",
      "execution_count": null,
      "metadata": {
        "id": "-W8IE3DPwmyA"
      },
      "outputs": [],
      "source": [
        ""
      ]
    },
    {
      "cell_type": "code",
      "execution_count": null,
      "metadata": {
        "id": "xs1S7qHBwmsV"
      },
      "outputs": [],
      "source": [
        ""
      ]
    },
    {
      "cell_type": "markdown",
      "metadata": {
        "id": "TkPWON5Fw3qe"
      },
      "source": [
        "## 6. Iterating"
      ]
    },
    {
      "cell_type": "markdown",
      "metadata": {
        "id": "eIwWTZfEw5nw"
      },
      "source": [
        "Your task from now on is to iterate on the features for the data and see how adding or removing variables impacts the accuracy of the model. Be creative, and have fun! If you need a source of inspiration, check out some of the articles included in the project guide or feel free to do some research of your own."
      ]
    },
    {
      "cell_type": "markdown",
      "metadata": {
        "id": "KEs3DUYFw8AE"
      },
      "source": [
        "Because of how we split our data into training and testing sets earlier, we can re-join the predicted values with the original URLs and use that as starting point for idea generation. For example, are there any similarities between the URLs that are actually phishing attempts but classified as benign?"
      ]
    },
    {
      "cell_type": "code",
      "execution_count": null,
      "metadata": {
        "id": "W2mvBJpywmqH"
      },
      "outputs": [],
      "source": [
        "data_with_predictions = y_test.to_frame('actual_value')"
      ]
    },
    {
      "cell_type": "code",
      "execution_count": null,
      "metadata": {
        "id": "n5J4cyFTwmlW"
      },
      "outputs": [],
      "source": [
        "data_with_predictions.insert(0, 'predicted_value', y_pred)"
      ]
    },
    {
      "cell_type": "code",
      "execution_count": null,
      "metadata": {
        "id": "_URuz8dAwmgc"
      },
      "outputs": [],
      "source": [
        "data_with_predictions = urls.to_frame().join(data_with_predictions, how='inner')"
      ]
    },
    {
      "cell_type": "code",
      "execution_count": null,
      "metadata": {
        "colab": {
          "base_uri": "https://localhost:8080/",
          "height": 677
        },
        "id": "gtayOAyowmbX",
        "outputId": "237c695b-824b-4619-dab0-8ed97449ad5c"
      },
      "outputs": [
        {
          "output_type": "execute_result",
          "data": {
            "text/plain": [
              "                                                   url  predicted_value  \\\n",
              "8                                super1000[.]info/docs             True   \n",
              "12   www[.]coincoele[.]com[.]br/Scripts/smiles/?pt-...            False   \n",
              "24   mercadolivre[.]com[.]br[.]premiosfidelidade201...             True   \n",
              "34           promusic[.]co/components/interbank[.]com/            False   \n",
              "35   uvb[.]lg[.]ua/templates/a216/[.]PayPaI/e9d83d4...             True   \n",
              "39   phamxuanlinh[.]tk/secure-code8/security/login[...             True   \n",
              "53   lunatic-photography[.]opidum[.]de//wp-content/...             True   \n",
              "54        users11[.]jabry[.]com/reaseo/Aolupdate[.]htm            False   \n",
              "70   account[.]craigjsilist[.]org/blog/login/index[...             True   \n",
              "75   www[.]meor[.]org/wp-includes/images/crystal/lo...             True   \n",
              "87   'www[.]gestion-des-impayes[.]com/visuel[.]php?...             True   \n",
              "88   elshadayeletronicos[.]com/abn-amro/identificat...             True   \n",
              "95             rsaxena[.]5gbfree[.]com/facebook[.]html             True   \n",
              "97                               steamglfts[.]h16[.]ru             True   \n",
              "98                             steamglfts[.]hut2[.]ru/            False   \n",
              "101  bellicapelliweb[.]it/libraries/domit/webscr/we...             True   \n",
              "102                               vk-psich[.]hut2[.]ru            False   \n",
              "103  uvb[.]lg[.]ua/templates/a216/[.]PayPaI/fd60358...             True   \n",
              "104  mmilogistics[.]net/preview/bin/ssl/_id/www[.]p...             True   \n",
              "106                                 vklife[.]hut2[.]ru             True   \n",
              "\n",
              "     actual_value  \n",
              "8            True  \n",
              "12           True  \n",
              "24           True  \n",
              "34           True  \n",
              "35           True  \n",
              "39           True  \n",
              "53           True  \n",
              "54           True  \n",
              "70           True  \n",
              "75           True  \n",
              "87           True  \n",
              "88           True  \n",
              "95           True  \n",
              "97           True  \n",
              "98           True  \n",
              "101          True  \n",
              "102          True  \n",
              "103          True  \n",
              "104          True  \n",
              "106          True  "
            ],
            "text/html": [
              "\n",
              "  <div id=\"df-dc104f63-13e0-4228-a511-13ceab38071a\">\n",
              "    <div class=\"colab-df-container\">\n",
              "      <div>\n",
              "<style scoped>\n",
              "    .dataframe tbody tr th:only-of-type {\n",
              "        vertical-align: middle;\n",
              "    }\n",
              "\n",
              "    .dataframe tbody tr th {\n",
              "        vertical-align: top;\n",
              "    }\n",
              "\n",
              "    .dataframe thead th {\n",
              "        text-align: right;\n",
              "    }\n",
              "</style>\n",
              "<table border=\"1\" class=\"dataframe\">\n",
              "  <thead>\n",
              "    <tr style=\"text-align: right;\">\n",
              "      <th></th>\n",
              "      <th>url</th>\n",
              "      <th>predicted_value</th>\n",
              "      <th>actual_value</th>\n",
              "    </tr>\n",
              "  </thead>\n",
              "  <tbody>\n",
              "    <tr>\n",
              "      <th>8</th>\n",
              "      <td>super1000[.]info/docs</td>\n",
              "      <td>True</td>\n",
              "      <td>True</td>\n",
              "    </tr>\n",
              "    <tr>\n",
              "      <th>12</th>\n",
              "      <td>www[.]coincoele[.]com[.]br/Scripts/smiles/?pt-...</td>\n",
              "      <td>False</td>\n",
              "      <td>True</td>\n",
              "    </tr>\n",
              "    <tr>\n",
              "      <th>24</th>\n",
              "      <td>mercadolivre[.]com[.]br[.]premiosfidelidade201...</td>\n",
              "      <td>True</td>\n",
              "      <td>True</td>\n",
              "    </tr>\n",
              "    <tr>\n",
              "      <th>34</th>\n",
              "      <td>promusic[.]co/components/interbank[.]com/</td>\n",
              "      <td>False</td>\n",
              "      <td>True</td>\n",
              "    </tr>\n",
              "    <tr>\n",
              "      <th>35</th>\n",
              "      <td>uvb[.]lg[.]ua/templates/a216/[.]PayPaI/e9d83d4...</td>\n",
              "      <td>True</td>\n",
              "      <td>True</td>\n",
              "    </tr>\n",
              "    <tr>\n",
              "      <th>39</th>\n",
              "      <td>phamxuanlinh[.]tk/secure-code8/security/login[...</td>\n",
              "      <td>True</td>\n",
              "      <td>True</td>\n",
              "    </tr>\n",
              "    <tr>\n",
              "      <th>53</th>\n",
              "      <td>lunatic-photography[.]opidum[.]de//wp-content/...</td>\n",
              "      <td>True</td>\n",
              "      <td>True</td>\n",
              "    </tr>\n",
              "    <tr>\n",
              "      <th>54</th>\n",
              "      <td>users11[.]jabry[.]com/reaseo/Aolupdate[.]htm</td>\n",
              "      <td>False</td>\n",
              "      <td>True</td>\n",
              "    </tr>\n",
              "    <tr>\n",
              "      <th>70</th>\n",
              "      <td>account[.]craigjsilist[.]org/blog/login/index[...</td>\n",
              "      <td>True</td>\n",
              "      <td>True</td>\n",
              "    </tr>\n",
              "    <tr>\n",
              "      <th>75</th>\n",
              "      <td>www[.]meor[.]org/wp-includes/images/crystal/lo...</td>\n",
              "      <td>True</td>\n",
              "      <td>True</td>\n",
              "    </tr>\n",
              "    <tr>\n",
              "      <th>87</th>\n",
              "      <td>'www[.]gestion-des-impayes[.]com/visuel[.]php?...</td>\n",
              "      <td>True</td>\n",
              "      <td>True</td>\n",
              "    </tr>\n",
              "    <tr>\n",
              "      <th>88</th>\n",
              "      <td>elshadayeletronicos[.]com/abn-amro/identificat...</td>\n",
              "      <td>True</td>\n",
              "      <td>True</td>\n",
              "    </tr>\n",
              "    <tr>\n",
              "      <th>95</th>\n",
              "      <td>rsaxena[.]5gbfree[.]com/facebook[.]html</td>\n",
              "      <td>True</td>\n",
              "      <td>True</td>\n",
              "    </tr>\n",
              "    <tr>\n",
              "      <th>97</th>\n",
              "      <td>steamglfts[.]h16[.]ru</td>\n",
              "      <td>True</td>\n",
              "      <td>True</td>\n",
              "    </tr>\n",
              "    <tr>\n",
              "      <th>98</th>\n",
              "      <td>steamglfts[.]hut2[.]ru/</td>\n",
              "      <td>False</td>\n",
              "      <td>True</td>\n",
              "    </tr>\n",
              "    <tr>\n",
              "      <th>101</th>\n",
              "      <td>bellicapelliweb[.]it/libraries/domit/webscr/we...</td>\n",
              "      <td>True</td>\n",
              "      <td>True</td>\n",
              "    </tr>\n",
              "    <tr>\n",
              "      <th>102</th>\n",
              "      <td>vk-psich[.]hut2[.]ru</td>\n",
              "      <td>False</td>\n",
              "      <td>True</td>\n",
              "    </tr>\n",
              "    <tr>\n",
              "      <th>103</th>\n",
              "      <td>uvb[.]lg[.]ua/templates/a216/[.]PayPaI/fd60358...</td>\n",
              "      <td>True</td>\n",
              "      <td>True</td>\n",
              "    </tr>\n",
              "    <tr>\n",
              "      <th>104</th>\n",
              "      <td>mmilogistics[.]net/preview/bin/ssl/_id/www[.]p...</td>\n",
              "      <td>True</td>\n",
              "      <td>True</td>\n",
              "    </tr>\n",
              "    <tr>\n",
              "      <th>106</th>\n",
              "      <td>vklife[.]hut2[.]ru</td>\n",
              "      <td>True</td>\n",
              "      <td>True</td>\n",
              "    </tr>\n",
              "  </tbody>\n",
              "</table>\n",
              "</div>\n",
              "      <button class=\"colab-df-convert\" onclick=\"convertToInteractive('df-dc104f63-13e0-4228-a511-13ceab38071a')\"\n",
              "              title=\"Convert this dataframe to an interactive table.\"\n",
              "              style=\"display:none;\">\n",
              "        \n",
              "  <svg xmlns=\"http://www.w3.org/2000/svg\" height=\"24px\"viewBox=\"0 0 24 24\"\n",
              "       width=\"24px\">\n",
              "    <path d=\"M0 0h24v24H0V0z\" fill=\"none\"/>\n",
              "    <path d=\"M18.56 5.44l.94 2.06.94-2.06 2.06-.94-2.06-.94-.94-2.06-.94 2.06-2.06.94zm-11 1L8.5 8.5l.94-2.06 2.06-.94-2.06-.94L8.5 2.5l-.94 2.06-2.06.94zm10 10l.94 2.06.94-2.06 2.06-.94-2.06-.94-.94-2.06-.94 2.06-2.06.94z\"/><path d=\"M17.41 7.96l-1.37-1.37c-.4-.4-.92-.59-1.43-.59-.52 0-1.04.2-1.43.59L10.3 9.45l-7.72 7.72c-.78.78-.78 2.05 0 2.83L4 21.41c.39.39.9.59 1.41.59.51 0 1.02-.2 1.41-.59l7.78-7.78 2.81-2.81c.8-.78.8-2.07 0-2.86zM5.41 20L4 18.59l7.72-7.72 1.47 1.35L5.41 20z\"/>\n",
              "  </svg>\n",
              "      </button>\n",
              "      \n",
              "  <style>\n",
              "    .colab-df-container {\n",
              "      display:flex;\n",
              "      flex-wrap:wrap;\n",
              "      gap: 12px;\n",
              "    }\n",
              "\n",
              "    .colab-df-convert {\n",
              "      background-color: #E8F0FE;\n",
              "      border: none;\n",
              "      border-radius: 50%;\n",
              "      cursor: pointer;\n",
              "      display: none;\n",
              "      fill: #1967D2;\n",
              "      height: 32px;\n",
              "      padding: 0 0 0 0;\n",
              "      width: 32px;\n",
              "    }\n",
              "\n",
              "    .colab-df-convert:hover {\n",
              "      background-color: #E2EBFA;\n",
              "      box-shadow: 0px 1px 2px rgba(60, 64, 67, 0.3), 0px 1px 3px 1px rgba(60, 64, 67, 0.15);\n",
              "      fill: #174EA6;\n",
              "    }\n",
              "\n",
              "    [theme=dark] .colab-df-convert {\n",
              "      background-color: #3B4455;\n",
              "      fill: #D2E3FC;\n",
              "    }\n",
              "\n",
              "    [theme=dark] .colab-df-convert:hover {\n",
              "      background-color: #434B5C;\n",
              "      box-shadow: 0px 1px 3px 1px rgba(0, 0, 0, 0.15);\n",
              "      filter: drop-shadow(0px 1px 2px rgba(0, 0, 0, 0.3));\n",
              "      fill: #FFFFFF;\n",
              "    }\n",
              "  </style>\n",
              "\n",
              "      <script>\n",
              "        const buttonEl =\n",
              "          document.querySelector('#df-dc104f63-13e0-4228-a511-13ceab38071a button.colab-df-convert');\n",
              "        buttonEl.style.display =\n",
              "          google.colab.kernel.accessAllowed ? 'block' : 'none';\n",
              "\n",
              "        async function convertToInteractive(key) {\n",
              "          const element = document.querySelector('#df-dc104f63-13e0-4228-a511-13ceab38071a');\n",
              "          const dataTable =\n",
              "            await google.colab.kernel.invokeFunction('convertToInteractive',\n",
              "                                                     [key], {});\n",
              "          if (!dataTable) return;\n",
              "\n",
              "          const docLinkHtml = 'Like what you see? Visit the ' +\n",
              "            '<a target=\"_blank\" href=https://colab.research.google.com/notebooks/data_table.ipynb>data table notebook</a>'\n",
              "            + ' to learn more about interactive tables.';\n",
              "          element.innerHTML = '';\n",
              "          dataTable['output_type'] = 'display_data';\n",
              "          await google.colab.output.renderOutput(dataTable, element);\n",
              "          const docLink = document.createElement('div');\n",
              "          docLink.innerHTML = docLinkHtml;\n",
              "          element.appendChild(docLink);\n",
              "        }\n",
              "      </script>\n",
              "    </div>\n",
              "  </div>\n",
              "  "
            ]
          },
          "metadata": {},
          "execution_count": 32
        }
      ],
      "source": [
        "data_with_predictions.head(20)"
      ]
    },
    {
      "cell_type": "code",
      "execution_count": null,
      "metadata": {
        "id": "53aF5NnrwmWx"
      },
      "outputs": [],
      "source": [
        ""
      ]
    },
    {
      "cell_type": "markdown",
      "metadata": {
        "id": "Zw6fSV5JxKVv"
      },
      "source": [
        "Another way to determine the quality of your derived features is to measure feature importance. There is a function within the `sklearn` module that extracts the relative importance the Random Forest algorithm assigned each feature in determining the predicted label."
      ]
    },
    {
      "cell_type": "code",
      "execution_count": null,
      "metadata": {
        "colab": {
          "base_uri": "https://localhost:8080/"
        },
        "id": "Pqcmm0MOwHiO",
        "outputId": "dea02145-b17f-4e3c-f869-f86191241d67"
      },
      "outputs": [
        {
          "output_type": "execute_result",
          "data": {
            "text/plain": [
              "url_character_count            0.435843\n",
              "biz_character_count            0.002163\n",
              "com_count_in_url               0.027249\n",
              "numeric_character_count        0.186988\n",
              "slash_count_in_url             0.006845\n",
              "www_count_in_url               0.097347\n",
              "php_count_in_url               0.074675\n",
              "paypal_count_in_url            0.061549\n",
              "wp_count_in_url                0.039356\n",
              "-_count_in_url                 0.049607\n",
              "identification_count_in_url    0.000242\n",
              "net_count_in_url               0.018137\n",
              "dtype: float64"
            ]
          },
          "metadata": {},
          "execution_count": 33
        }
      ],
      "source": [
        "pd.Series(rf_classifier.feature_importances_, index = np.array(x_train.columns))"
      ]
    },
    {
      "cell_type": "markdown",
      "metadata": {
        "id": "jgZwSSI_xO8G"
      },
      "source": [
        "The outputed table reveals that the Random Forest classifier more heavily relied on the `url_character_count` feature than the `numeric_character_count` to predict whether or not each URL was a phish attempt. The lower importance of `numeric_character_count` doesn't fundamentally mean that it's a poor feature, only that the algorithm determined the relationship between the number of numeric characters and the label was less pronounced and did not to be weighted as heavily in the classifying process.\n",
        "\n",
        "As you continue to iterate on your model, checking the feature importance matrix is a convenient way of determining which features are important and which may be extraneous. If, for example, a feature had an importance of `0.05`, it's unlikely that feature is a qualified indicator of phishing. "
      ]
    },
    {
      "cell_type": "code",
      "execution_count": null,
      "metadata": {
        "colab": {
          "base_uri": "https://localhost:8080/"
        },
        "id": "1EiOOFaxxIQA",
        "outputId": "68825a3e-7dad-4348-8970-53b7b7948b26"
      },
      "outputs": [
        {
          "output_type": "execute_result",
          "data": {
            "text/plain": [
              "array([[13074,  1324],\n",
              "       [ 2691, 11713]])"
            ]
          },
          "metadata": {},
          "execution_count": 34
        }
      ],
      "source": [
        "from sklearn.metrics import confusion_matrix\n",
        "cm=confusion_matrix(y_test,y_pred)\n",
        "cm"
      ]
    },
    {
      "cell_type": "code",
      "execution_count": null,
      "metadata": {
        "id": "OdeTCxyxxIBi"
      },
      "outputs": [],
      "source": [
        ""
      ]
    },
    {
      "cell_type": "code",
      "execution_count": null,
      "metadata": {
        "id": "GDAErqyWxH76"
      },
      "outputs": [],
      "source": [
        ""
      ]
    },
    {
      "cell_type": "code",
      "execution_count": null,
      "metadata": {
        "id": "3HA0os8-xH31"
      },
      "outputs": [],
      "source": [
        ""
      ]
    },
    {
      "cell_type": "code",
      "execution_count": null,
      "metadata": {
        "id": "vdxJohHHxHwK"
      },
      "outputs": [],
      "source": [
        ""
      ]
    },
    {
      "cell_type": "markdown",
      "metadata": {
        "id": "gPoIREW7xXEO"
      },
      "source": [
        "## Tips\n",
        "\n",
        "- if you want to preserve the results of previous classifier attempts, simply copy the original code, paste into new cells, and change the names of the variables the outputs are stored in"
      ]
    },
    {
      "cell_type": "code",
      "execution_count": null,
      "metadata": {
        "id": "xBhhVHbBxY72"
      },
      "outputs": [],
      "source": [
        ""
      ]
    }
  ],
  "metadata": {
    "colab": {
      "collapsed_sections": [
        "K5qzDaqZtj7v",
        "6iXMkRKrwnAB",
        "TkPWON5Fw3qe",
        "gPoIREW7xXEO"
      ],
      "name": "Machine_Learning_for_Phishing_Detection (1).ipynb",
      "provenance": [],
      "include_colab_link": true
    },
    "kernelspec": {
      "display_name": "Python 3",
      "name": "python3"
    },
    "language_info": {
      "name": "python"
    }
  },
  "nbformat": 4,
  "nbformat_minor": 0
}